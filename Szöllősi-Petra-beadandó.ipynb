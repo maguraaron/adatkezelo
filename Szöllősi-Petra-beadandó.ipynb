{
 "cells": [
  {
   "cell_type": "markdown",
   "id": "8c0cf976",
   "metadata": {},
   "source": [
    "Task:\n",
    "9., Data munging with learning: on lab_5 data \n",
    "\n",
    "- mix the training and testing data\n",
    "- separate data into three subset automatically and randonly (results of repeadet run may give different subsets): train, test, blind(rows with missing data)\n",
    "- data munging: fix data extremums with data transformation (visualizsation also necessary)\n",
    "- fill all the missing data with learning\n",
    "- apply K-fold cross validation with graph visualization during learning\n",
    "- try to relearned original target and compare the new results with the original performances\n",
    "- apply different learning models for fill the data and learned the original target\n",
    "- improve the final performance with choosing the best combination of the learning models (data munging and re-learning) and parameter tunning\n"
   ]
  },
  {
   "cell_type": "code",
   "execution_count": 204,
   "id": "a6de37c2",
   "metadata": {},
   "outputs": [],
   "source": [
    "import pandas as pd\n",
    "import numpy as np\n",
    "import matplotlib as plt\n",
    "import os\n",
    "%matplotlib inline"
   ]
  },
  {
   "cell_type": "code",
   "execution_count": 205,
   "id": "932af4ce",
   "metadata": {},
   "outputs": [],
   "source": [
    "# Össze mixeljük a train és a test adatbázist\n",
    "mixed = pd.concat(map(pd.read_csv, ['train.csv', 'test.csv']), ignore_index=True)"
   ]
  },
  {
   "cell_type": "code",
   "execution_count": 206,
   "id": "5f88352c",
   "metadata": {},
   "outputs": [
    {
     "data": {
      "text/html": [
       "<div>\n",
       "<style scoped>\n",
       "    .dataframe tbody tr th:only-of-type {\n",
       "        vertical-align: middle;\n",
       "    }\n",
       "\n",
       "    .dataframe tbody tr th {\n",
       "        vertical-align: top;\n",
       "    }\n",
       "\n",
       "    .dataframe thead th {\n",
       "        text-align: right;\n",
       "    }\n",
       "</style>\n",
       "<table border=\"1\" class=\"dataframe\">\n",
       "  <thead>\n",
       "    <tr style=\"text-align: right;\">\n",
       "      <th></th>\n",
       "      <th>Loan_ID</th>\n",
       "      <th>Gender</th>\n",
       "      <th>Married</th>\n",
       "      <th>Dependents</th>\n",
       "      <th>Education</th>\n",
       "      <th>Self_Employed</th>\n",
       "      <th>ApplicantIncome</th>\n",
       "      <th>CoapplicantIncome</th>\n",
       "      <th>LoanAmount</th>\n",
       "      <th>Loan_Amount_Term</th>\n",
       "      <th>Credit_History</th>\n",
       "      <th>Property_Area</th>\n",
       "      <th>Loan_Status</th>\n",
       "    </tr>\n",
       "  </thead>\n",
       "  <tbody>\n",
       "    <tr>\n",
       "      <th>0</th>\n",
       "      <td>LP001002</td>\n",
       "      <td>Male</td>\n",
       "      <td>No</td>\n",
       "      <td>0</td>\n",
       "      <td>Graduate</td>\n",
       "      <td>No</td>\n",
       "      <td>5849</td>\n",
       "      <td>0.0</td>\n",
       "      <td>NaN</td>\n",
       "      <td>360.0</td>\n",
       "      <td>1.0</td>\n",
       "      <td>Urban</td>\n",
       "      <td>Y</td>\n",
       "    </tr>\n",
       "    <tr>\n",
       "      <th>1</th>\n",
       "      <td>LP001003</td>\n",
       "      <td>Male</td>\n",
       "      <td>Yes</td>\n",
       "      <td>1</td>\n",
       "      <td>Graduate</td>\n",
       "      <td>No</td>\n",
       "      <td>4583</td>\n",
       "      <td>1508.0</td>\n",
       "      <td>128.0</td>\n",
       "      <td>360.0</td>\n",
       "      <td>1.0</td>\n",
       "      <td>Rural</td>\n",
       "      <td>N</td>\n",
       "    </tr>\n",
       "    <tr>\n",
       "      <th>2</th>\n",
       "      <td>LP001005</td>\n",
       "      <td>Male</td>\n",
       "      <td>Yes</td>\n",
       "      <td>0</td>\n",
       "      <td>Graduate</td>\n",
       "      <td>Yes</td>\n",
       "      <td>3000</td>\n",
       "      <td>0.0</td>\n",
       "      <td>66.0</td>\n",
       "      <td>360.0</td>\n",
       "      <td>1.0</td>\n",
       "      <td>Urban</td>\n",
       "      <td>Y</td>\n",
       "    </tr>\n",
       "    <tr>\n",
       "      <th>3</th>\n",
       "      <td>LP001006</td>\n",
       "      <td>Male</td>\n",
       "      <td>Yes</td>\n",
       "      <td>0</td>\n",
       "      <td>Not Graduate</td>\n",
       "      <td>No</td>\n",
       "      <td>2583</td>\n",
       "      <td>2358.0</td>\n",
       "      <td>120.0</td>\n",
       "      <td>360.0</td>\n",
       "      <td>1.0</td>\n",
       "      <td>Urban</td>\n",
       "      <td>Y</td>\n",
       "    </tr>\n",
       "    <tr>\n",
       "      <th>4</th>\n",
       "      <td>LP001008</td>\n",
       "      <td>Male</td>\n",
       "      <td>No</td>\n",
       "      <td>0</td>\n",
       "      <td>Graduate</td>\n",
       "      <td>No</td>\n",
       "      <td>6000</td>\n",
       "      <td>0.0</td>\n",
       "      <td>141.0</td>\n",
       "      <td>360.0</td>\n",
       "      <td>1.0</td>\n",
       "      <td>Urban</td>\n",
       "      <td>Y</td>\n",
       "    </tr>\n",
       "    <tr>\n",
       "      <th>5</th>\n",
       "      <td>LP001011</td>\n",
       "      <td>Male</td>\n",
       "      <td>Yes</td>\n",
       "      <td>2</td>\n",
       "      <td>Graduate</td>\n",
       "      <td>Yes</td>\n",
       "      <td>5417</td>\n",
       "      <td>4196.0</td>\n",
       "      <td>267.0</td>\n",
       "      <td>360.0</td>\n",
       "      <td>1.0</td>\n",
       "      <td>Urban</td>\n",
       "      <td>Y</td>\n",
       "    </tr>\n",
       "    <tr>\n",
       "      <th>6</th>\n",
       "      <td>LP001013</td>\n",
       "      <td>Male</td>\n",
       "      <td>Yes</td>\n",
       "      <td>0</td>\n",
       "      <td>Not Graduate</td>\n",
       "      <td>No</td>\n",
       "      <td>2333</td>\n",
       "      <td>1516.0</td>\n",
       "      <td>95.0</td>\n",
       "      <td>360.0</td>\n",
       "      <td>1.0</td>\n",
       "      <td>Urban</td>\n",
       "      <td>Y</td>\n",
       "    </tr>\n",
       "    <tr>\n",
       "      <th>7</th>\n",
       "      <td>LP001014</td>\n",
       "      <td>Male</td>\n",
       "      <td>Yes</td>\n",
       "      <td>3+</td>\n",
       "      <td>Graduate</td>\n",
       "      <td>No</td>\n",
       "      <td>3036</td>\n",
       "      <td>2504.0</td>\n",
       "      <td>158.0</td>\n",
       "      <td>360.0</td>\n",
       "      <td>0.0</td>\n",
       "      <td>Semiurban</td>\n",
       "      <td>N</td>\n",
       "    </tr>\n",
       "    <tr>\n",
       "      <th>8</th>\n",
       "      <td>LP001018</td>\n",
       "      <td>Male</td>\n",
       "      <td>Yes</td>\n",
       "      <td>2</td>\n",
       "      <td>Graduate</td>\n",
       "      <td>No</td>\n",
       "      <td>4006</td>\n",
       "      <td>1526.0</td>\n",
       "      <td>168.0</td>\n",
       "      <td>360.0</td>\n",
       "      <td>1.0</td>\n",
       "      <td>Urban</td>\n",
       "      <td>Y</td>\n",
       "    </tr>\n",
       "    <tr>\n",
       "      <th>9</th>\n",
       "      <td>LP001020</td>\n",
       "      <td>Male</td>\n",
       "      <td>Yes</td>\n",
       "      <td>1</td>\n",
       "      <td>Graduate</td>\n",
       "      <td>No</td>\n",
       "      <td>12841</td>\n",
       "      <td>10968.0</td>\n",
       "      <td>349.0</td>\n",
       "      <td>360.0</td>\n",
       "      <td>1.0</td>\n",
       "      <td>Semiurban</td>\n",
       "      <td>N</td>\n",
       "    </tr>\n",
       "  </tbody>\n",
       "</table>\n",
       "</div>"
      ],
      "text/plain": [
       "    Loan_ID Gender Married Dependents     Education Self_Employed  \\\n",
       "0  LP001002   Male      No          0      Graduate            No   \n",
       "1  LP001003   Male     Yes          1      Graduate            No   \n",
       "2  LP001005   Male     Yes          0      Graduate           Yes   \n",
       "3  LP001006   Male     Yes          0  Not Graduate            No   \n",
       "4  LP001008   Male      No          0      Graduate            No   \n",
       "5  LP001011   Male     Yes          2      Graduate           Yes   \n",
       "6  LP001013   Male     Yes          0  Not Graduate            No   \n",
       "7  LP001014   Male     Yes         3+      Graduate            No   \n",
       "8  LP001018   Male     Yes          2      Graduate            No   \n",
       "9  LP001020   Male     Yes          1      Graduate            No   \n",
       "\n",
       "   ApplicantIncome  CoapplicantIncome  LoanAmount  Loan_Amount_Term  \\\n",
       "0             5849                0.0         NaN             360.0   \n",
       "1             4583             1508.0       128.0             360.0   \n",
       "2             3000                0.0        66.0             360.0   \n",
       "3             2583             2358.0       120.0             360.0   \n",
       "4             6000                0.0       141.0             360.0   \n",
       "5             5417             4196.0       267.0             360.0   \n",
       "6             2333             1516.0        95.0             360.0   \n",
       "7             3036             2504.0       158.0             360.0   \n",
       "8             4006             1526.0       168.0             360.0   \n",
       "9            12841            10968.0       349.0             360.0   \n",
       "\n",
       "   Credit_History Property_Area Loan_Status  \n",
       "0             1.0         Urban           Y  \n",
       "1             1.0         Rural           N  \n",
       "2             1.0         Urban           Y  \n",
       "3             1.0         Urban           Y  \n",
       "4             1.0         Urban           Y  \n",
       "5             1.0         Urban           Y  \n",
       "6             1.0         Urban           Y  \n",
       "7             0.0     Semiurban           N  \n",
       "8             1.0         Urban           Y  \n",
       "9             1.0     Semiurban           N  "
      ]
     },
     "execution_count": 206,
     "metadata": {},
     "output_type": "execute_result"
    }
   ],
   "source": [
    "mixed.head(10)"
   ]
  },
  {
   "cell_type": "code",
   "execution_count": 207,
   "id": "7acb43b5",
   "metadata": {},
   "outputs": [
    {
     "data": {
      "text/html": [
       "<div>\n",
       "<style scoped>\n",
       "    .dataframe tbody tr th:only-of-type {\n",
       "        vertical-align: middle;\n",
       "    }\n",
       "\n",
       "    .dataframe tbody tr th {\n",
       "        vertical-align: top;\n",
       "    }\n",
       "\n",
       "    .dataframe thead th {\n",
       "        text-align: right;\n",
       "    }\n",
       "</style>\n",
       "<table border=\"1\" class=\"dataframe\">\n",
       "  <thead>\n",
       "    <tr style=\"text-align: right;\">\n",
       "      <th></th>\n",
       "      <th>ApplicantIncome</th>\n",
       "      <th>CoapplicantIncome</th>\n",
       "      <th>LoanAmount</th>\n",
       "      <th>Loan_Amount_Term</th>\n",
       "      <th>Credit_History</th>\n",
       "    </tr>\n",
       "  </thead>\n",
       "  <tbody>\n",
       "    <tr>\n",
       "      <th>count</th>\n",
       "      <td>981.000000</td>\n",
       "      <td>981.000000</td>\n",
       "      <td>954.000000</td>\n",
       "      <td>961.000000</td>\n",
       "      <td>902.000000</td>\n",
       "    </tr>\n",
       "    <tr>\n",
       "      <th>mean</th>\n",
       "      <td>5179.795107</td>\n",
       "      <td>1601.916330</td>\n",
       "      <td>142.511530</td>\n",
       "      <td>342.201873</td>\n",
       "      <td>0.835920</td>\n",
       "    </tr>\n",
       "    <tr>\n",
       "      <th>std</th>\n",
       "      <td>5695.104533</td>\n",
       "      <td>2718.772806</td>\n",
       "      <td>77.421743</td>\n",
       "      <td>65.100602</td>\n",
       "      <td>0.370553</td>\n",
       "    </tr>\n",
       "    <tr>\n",
       "      <th>min</th>\n",
       "      <td>0.000000</td>\n",
       "      <td>0.000000</td>\n",
       "      <td>9.000000</td>\n",
       "      <td>6.000000</td>\n",
       "      <td>0.000000</td>\n",
       "    </tr>\n",
       "    <tr>\n",
       "      <th>25%</th>\n",
       "      <td>2875.000000</td>\n",
       "      <td>0.000000</td>\n",
       "      <td>100.000000</td>\n",
       "      <td>360.000000</td>\n",
       "      <td>1.000000</td>\n",
       "    </tr>\n",
       "    <tr>\n",
       "      <th>50%</th>\n",
       "      <td>3800.000000</td>\n",
       "      <td>1110.000000</td>\n",
       "      <td>126.000000</td>\n",
       "      <td>360.000000</td>\n",
       "      <td>1.000000</td>\n",
       "    </tr>\n",
       "    <tr>\n",
       "      <th>75%</th>\n",
       "      <td>5516.000000</td>\n",
       "      <td>2365.000000</td>\n",
       "      <td>162.000000</td>\n",
       "      <td>360.000000</td>\n",
       "      <td>1.000000</td>\n",
       "    </tr>\n",
       "    <tr>\n",
       "      <th>max</th>\n",
       "      <td>81000.000000</td>\n",
       "      <td>41667.000000</td>\n",
       "      <td>700.000000</td>\n",
       "      <td>480.000000</td>\n",
       "      <td>1.000000</td>\n",
       "    </tr>\n",
       "  </tbody>\n",
       "</table>\n",
       "</div>"
      ],
      "text/plain": [
       "       ApplicantIncome  CoapplicantIncome  LoanAmount  Loan_Amount_Term  \\\n",
       "count       981.000000         981.000000  954.000000        961.000000   \n",
       "mean       5179.795107        1601.916330  142.511530        342.201873   \n",
       "std        5695.104533        2718.772806   77.421743         65.100602   \n",
       "min           0.000000           0.000000    9.000000          6.000000   \n",
       "25%        2875.000000           0.000000  100.000000        360.000000   \n",
       "50%        3800.000000        1110.000000  126.000000        360.000000   \n",
       "75%        5516.000000        2365.000000  162.000000        360.000000   \n",
       "max       81000.000000       41667.000000  700.000000        480.000000   \n",
       "\n",
       "       Credit_History  \n",
       "count      902.000000  \n",
       "mean         0.835920  \n",
       "std          0.370553  \n",
       "min          0.000000  \n",
       "25%          1.000000  \n",
       "50%          1.000000  \n",
       "75%          1.000000  \n",
       "max          1.000000  "
      ]
     },
     "execution_count": 207,
     "metadata": {},
     "output_type": "execute_result"
    }
   ],
   "source": [
    "# Megnézem, hogy melyik numerikus oszlopban lehetnek kiugró értékek. Ha a maximum nagyon eltér az átlagtól akkor azzal kezdeni kell valamit\n",
    "mixed.describe()"
   ]
  },
  {
   "cell_type": "code",
   "execution_count": 208,
   "id": "247b9398",
   "metadata": {},
   "outputs": [],
   "source": [
    "#Label encoder használata a nem numerikus értékekre\n",
    "#NaN értékek nincsenek megváltoztatva\n",
    "from sklearn.preprocessing import LabelEncoder\n",
    "\n",
    "encoders = dict()\n",
    "#összegyűjtöm azokat az oszlopokat amiknek elemei sem nem float sem nem int típusúak\n",
    "n_numeric = [i for i in mixed.select_dtypes(exclude=[\"float\", 'int']).columns]\n",
    "\n",
    "#alkalmazom a Label Encoder-t ezekre az oszlopokra\n",
    "for column in n_numeric:\n",
    "    series = mixed[column]\n",
    "    label_encoder = LabelEncoder()\n",
    "    mixed[column] = pd.Series(label_encoder.fit_transform(series[series.notnull()]),\n",
    "    index=series[series.notnull()].index)\n",
    "    encoders[column] = label_encoder\n"
   ]
  },
  {
   "cell_type": "code",
   "execution_count": 209,
   "id": "19eb4efe",
   "metadata": {},
   "outputs": [
    {
     "data": {
      "text/html": [
       "<div>\n",
       "<style scoped>\n",
       "    .dataframe tbody tr th:only-of-type {\n",
       "        vertical-align: middle;\n",
       "    }\n",
       "\n",
       "    .dataframe tbody tr th {\n",
       "        vertical-align: top;\n",
       "    }\n",
       "\n",
       "    .dataframe thead th {\n",
       "        text-align: right;\n",
       "    }\n",
       "</style>\n",
       "<table border=\"1\" class=\"dataframe\">\n",
       "  <thead>\n",
       "    <tr style=\"text-align: right;\">\n",
       "      <th></th>\n",
       "      <th>Loan_ID</th>\n",
       "      <th>Gender</th>\n",
       "      <th>Married</th>\n",
       "      <th>Dependents</th>\n",
       "      <th>Education</th>\n",
       "      <th>Self_Employed</th>\n",
       "      <th>ApplicantIncome</th>\n",
       "      <th>CoapplicantIncome</th>\n",
       "      <th>LoanAmount</th>\n",
       "      <th>Loan_Amount_Term</th>\n",
       "      <th>Credit_History</th>\n",
       "      <th>Property_Area</th>\n",
       "      <th>Loan_Status</th>\n",
       "    </tr>\n",
       "  </thead>\n",
       "  <tbody>\n",
       "    <tr>\n",
       "      <th>count</th>\n",
       "      <td>981.000000</td>\n",
       "      <td>957.000000</td>\n",
       "      <td>978.000000</td>\n",
       "      <td>956.000000</td>\n",
       "      <td>981.000000</td>\n",
       "      <td>926.000000</td>\n",
       "      <td>981.000000</td>\n",
       "      <td>981.000000</td>\n",
       "      <td>954.000000</td>\n",
       "      <td>961.000000</td>\n",
       "      <td>902.000000</td>\n",
       "      <td>981.000000</td>\n",
       "      <td>614.000000</td>\n",
       "    </tr>\n",
       "    <tr>\n",
       "      <th>mean</th>\n",
       "      <td>490.000000</td>\n",
       "      <td>0.809822</td>\n",
       "      <td>0.645194</td>\n",
       "      <td>0.787657</td>\n",
       "      <td>0.222222</td>\n",
       "      <td>0.128510</td>\n",
       "      <td>5179.795107</td>\n",
       "      <td>1601.916330</td>\n",
       "      <td>142.511530</td>\n",
       "      <td>342.201873</td>\n",
       "      <td>0.835920</td>\n",
       "      <td>1.053007</td>\n",
       "      <td>0.687296</td>\n",
       "    </tr>\n",
       "    <tr>\n",
       "      <th>std</th>\n",
       "      <td>283.334608</td>\n",
       "      <td>0.392646</td>\n",
       "      <td>0.478699</td>\n",
       "      <td>1.036453</td>\n",
       "      <td>0.415952</td>\n",
       "      <td>0.334837</td>\n",
       "      <td>5695.104533</td>\n",
       "      <td>2718.772806</td>\n",
       "      <td>77.421743</td>\n",
       "      <td>65.100602</td>\n",
       "      <td>0.370553</td>\n",
       "      <td>0.801302</td>\n",
       "      <td>0.463973</td>\n",
       "    </tr>\n",
       "    <tr>\n",
       "      <th>min</th>\n",
       "      <td>0.000000</td>\n",
       "      <td>0.000000</td>\n",
       "      <td>0.000000</td>\n",
       "      <td>0.000000</td>\n",
       "      <td>0.000000</td>\n",
       "      <td>0.000000</td>\n",
       "      <td>0.000000</td>\n",
       "      <td>0.000000</td>\n",
       "      <td>9.000000</td>\n",
       "      <td>6.000000</td>\n",
       "      <td>0.000000</td>\n",
       "      <td>0.000000</td>\n",
       "      <td>0.000000</td>\n",
       "    </tr>\n",
       "    <tr>\n",
       "      <th>25%</th>\n",
       "      <td>245.000000</td>\n",
       "      <td>1.000000</td>\n",
       "      <td>0.000000</td>\n",
       "      <td>0.000000</td>\n",
       "      <td>0.000000</td>\n",
       "      <td>0.000000</td>\n",
       "      <td>2875.000000</td>\n",
       "      <td>0.000000</td>\n",
       "      <td>100.000000</td>\n",
       "      <td>360.000000</td>\n",
       "      <td>1.000000</td>\n",
       "      <td>0.000000</td>\n",
       "      <td>0.000000</td>\n",
       "    </tr>\n",
       "    <tr>\n",
       "      <th>50%</th>\n",
       "      <td>490.000000</td>\n",
       "      <td>1.000000</td>\n",
       "      <td>1.000000</td>\n",
       "      <td>0.000000</td>\n",
       "      <td>0.000000</td>\n",
       "      <td>0.000000</td>\n",
       "      <td>3800.000000</td>\n",
       "      <td>1110.000000</td>\n",
       "      <td>126.000000</td>\n",
       "      <td>360.000000</td>\n",
       "      <td>1.000000</td>\n",
       "      <td>1.000000</td>\n",
       "      <td>1.000000</td>\n",
       "    </tr>\n",
       "    <tr>\n",
       "      <th>75%</th>\n",
       "      <td>735.000000</td>\n",
       "      <td>1.000000</td>\n",
       "      <td>1.000000</td>\n",
       "      <td>2.000000</td>\n",
       "      <td>0.000000</td>\n",
       "      <td>0.000000</td>\n",
       "      <td>5516.000000</td>\n",
       "      <td>2365.000000</td>\n",
       "      <td>162.000000</td>\n",
       "      <td>360.000000</td>\n",
       "      <td>1.000000</td>\n",
       "      <td>2.000000</td>\n",
       "      <td>1.000000</td>\n",
       "    </tr>\n",
       "    <tr>\n",
       "      <th>max</th>\n",
       "      <td>980.000000</td>\n",
       "      <td>1.000000</td>\n",
       "      <td>1.000000</td>\n",
       "      <td>3.000000</td>\n",
       "      <td>1.000000</td>\n",
       "      <td>1.000000</td>\n",
       "      <td>81000.000000</td>\n",
       "      <td>41667.000000</td>\n",
       "      <td>700.000000</td>\n",
       "      <td>480.000000</td>\n",
       "      <td>1.000000</td>\n",
       "      <td>2.000000</td>\n",
       "      <td>1.000000</td>\n",
       "    </tr>\n",
       "  </tbody>\n",
       "</table>\n",
       "</div>"
      ],
      "text/plain": [
       "          Loan_ID      Gender     Married  Dependents   Education  \\\n",
       "count  981.000000  957.000000  978.000000  956.000000  981.000000   \n",
       "mean   490.000000    0.809822    0.645194    0.787657    0.222222   \n",
       "std    283.334608    0.392646    0.478699    1.036453    0.415952   \n",
       "min      0.000000    0.000000    0.000000    0.000000    0.000000   \n",
       "25%    245.000000    1.000000    0.000000    0.000000    0.000000   \n",
       "50%    490.000000    1.000000    1.000000    0.000000    0.000000   \n",
       "75%    735.000000    1.000000    1.000000    2.000000    0.000000   \n",
       "max    980.000000    1.000000    1.000000    3.000000    1.000000   \n",
       "\n",
       "       Self_Employed  ApplicantIncome  CoapplicantIncome  LoanAmount  \\\n",
       "count     926.000000       981.000000         981.000000  954.000000   \n",
       "mean        0.128510      5179.795107        1601.916330  142.511530   \n",
       "std         0.334837      5695.104533        2718.772806   77.421743   \n",
       "min         0.000000         0.000000           0.000000    9.000000   \n",
       "25%         0.000000      2875.000000           0.000000  100.000000   \n",
       "50%         0.000000      3800.000000        1110.000000  126.000000   \n",
       "75%         0.000000      5516.000000        2365.000000  162.000000   \n",
       "max         1.000000     81000.000000       41667.000000  700.000000   \n",
       "\n",
       "       Loan_Amount_Term  Credit_History  Property_Area  Loan_Status  \n",
       "count        961.000000      902.000000     981.000000   614.000000  \n",
       "mean         342.201873        0.835920       1.053007     0.687296  \n",
       "std           65.100602        0.370553       0.801302     0.463973  \n",
       "min            6.000000        0.000000       0.000000     0.000000  \n",
       "25%          360.000000        1.000000       0.000000     0.000000  \n",
       "50%          360.000000        1.000000       1.000000     1.000000  \n",
       "75%          360.000000        1.000000       2.000000     1.000000  \n",
       "max          480.000000        1.000000       2.000000     1.000000  "
      ]
     },
     "execution_count": 209,
     "metadata": {},
     "output_type": "execute_result"
    }
   ],
   "source": [
    "mixed.describe()"
   ]
  },
  {
   "cell_type": "code",
   "execution_count": 210,
   "id": "10d2a6bf",
   "metadata": {},
   "outputs": [
    {
     "data": {
      "text/plain": [
       "Loan_ID                0\n",
       "Gender                24\n",
       "Married                3\n",
       "Dependents            25\n",
       "Education              0\n",
       "Self_Employed         55\n",
       "ApplicantIncome        0\n",
       "CoapplicantIncome      0\n",
       "LoanAmount            27\n",
       "Loan_Amount_Term      20\n",
       "Credit_History        79\n",
       "Property_Area          0\n",
       "Loan_Status          367\n",
       "dtype: int64"
      ]
     },
     "execution_count": 210,
     "metadata": {},
     "output_type": "execute_result"
    }
   ],
   "source": [
    "#Blind adattábla készítése hiányzó adatokkal\n",
    "blind = mixed[mixed.isnull().any(axis=1)]\n",
    "blind.isnull().sum()"
   ]
  },
  {
   "cell_type": "code",
   "execution_count": 211,
   "id": "fbc4261b",
   "metadata": {},
   "outputs": [],
   "source": [
    "# Kiugró értékeket normalizáló függvény logaritmus használatával\n",
    "# A logaritmus 0-nál nem értelmezhető normálisan így, ha 0 értéket venne fel valahol, akkor azt 1-re korrigáljuk\n",
    "# A függvény megkapja az dataframe és a vizsgálni kívánt oszlop nevét és készít egy normalizált adtokból álló oszlopot amit hozzáad a dataframe-hez columnName_norm néven\n",
    "def normalise(dataframe, column_name):\n",
    "    t_col = dataframe[column_name]\n",
    "    t_col = t_col.replace([0], 1)\n",
    "    dataframe[column_name + '_norm'] = t_col.transform(lambda x: np.log(x))\n",
    "    "
   ]
  },
  {
   "cell_type": "code",
   "execution_count": 213,
   "id": "2b4d279c",
   "metadata": {},
   "outputs": [
    {
     "data": {
      "text/plain": [
       "array([1., 0.])"
      ]
     },
     "execution_count": 213,
     "metadata": {},
     "output_type": "execute_result"
    }
   ],
   "source": [
    "#Gender\n",
    "#Hiányzó adatok kitöltése random\n",
    "\n",
    "# Az NaN értékeket átírom 'unknown' stringre így könnyebb az összehasonlítás\n",
    "mixed['Gender'].value_counts(sort=True)\n",
    "mixed['Gender'].fillna('unknown',inplace=True)\n",
    " \n",
    "sex = (1, 0)\n",
    "def f_gen(series):\n",
    "    a = np.random.choice(sex)\n",
    "    if (series['Gender'] == 'unknown'):\n",
    "            return a\n",
    "    else: \n",
    "            return series['Gender']\n",
    "\n",
    "# Itt alkalmazom a megírt függvényt\n",
    "mixed['Gender'] = mixed.apply(f_gen, axis='columns')\n",
    "mixed['Gender'].unique()"
   ]
  },
  {
   "cell_type": "code",
   "execution_count": 214,
   "id": "fda6e1a2",
   "metadata": {},
   "outputs": [
    {
     "data": {
      "text/plain": [
       "array([0., 1.])"
      ]
     },
     "execution_count": 214,
     "metadata": {},
     "output_type": "execute_result"
    }
   ],
   "source": [
    "#Self_Employed\n",
    "#Hiányzó adatok kitöltése random\n",
    " \n",
    "mixed['Self_Employed'].value_counts(sort=True)\n",
    "mixed['Self_Employed'].fillna('unknown',inplace=True)\n",
    " \n",
    "sex = (1, 0)\n",
    "def f_gen(series):\n",
    "    a = np.random.choice(sex)\n",
    "    if (series['Self_Employed'] == 'unknown'):\n",
    "            return a\n",
    "    else: \n",
    "            return series['Self_Employed']\n",
    "    \n",
    "mixed['Self_Employed'] = mixed.apply(f_gen, axis='columns')\n",
    "mixed['Self_Employed'].unique()"
   ]
  },
  {
   "cell_type": "code",
   "execution_count": 215,
   "id": "98786b38",
   "metadata": {},
   "outputs": [
    {
     "data": {
      "text/plain": [
       "array([0., 1.])"
      ]
     },
     "execution_count": 215,
     "metadata": {},
     "output_type": "execute_result"
    }
   ],
   "source": [
    "#Married\n",
    "#Hiányzó adatok kitöltése random\n",
    " \n",
    "mixed['Married'].value_counts(sort=True)\n",
    "mixed['Married'].fillna('unknown',inplace=True)\n",
    " \n",
    "sex = (1, 0)\n",
    "def f_gen(series):\n",
    "    a = np.random.choice(sex)\n",
    "    if (series['Married'] == 'unknown'):\n",
    "            return a\n",
    "    else: \n",
    "            return series['Married']\n",
    "    \n",
    "mixed['Married'] = mixed.apply(f_gen, axis='columns')\n",
    "mixed['Married'].unique()"
   ]
  },
  {
   "cell_type": "code",
   "execution_count": 216,
   "id": "74779950",
   "metadata": {},
   "outputs": [],
   "source": [
    "# Hiányzó adatok \"tanulással\" kitöltése. A meglévő adatok alapján interpoláció segítségével.\n",
    "mixed['Dependents'].interpolate(method ='linear', limit_direction ='backward', inplace=True)\n",
    "mixed['LoanAmount'].interpolate(method ='linear', limit_direction ='backward', inplace=True)\n",
    "mixed['Loan_Amount_Term'].interpolate(method ='linear', limit_direction ='forward', inplace=True)\n",
    "mixed['Credit_History'].interpolate(method ='linear', limit_direction ='forward', inplace=True)"
   ]
  },
  {
   "cell_type": "code",
   "execution_count": 217,
   "id": "015251e2",
   "metadata": {},
   "outputs": [
    {
     "data": {
      "text/plain": [
       "142.97196738022427"
      ]
     },
     "execution_count": 217,
     "metadata": {},
     "output_type": "execute_result"
    }
   ],
   "source": [
    "# Segéd változó, kiszámolja a LoanAmount oszlop átlagát, később használjuk ezt a számot\n",
    "arr = mixed['LoanAmount'].values\n",
    "arr.mean()"
   ]
  },
  {
   "cell_type": "code",
   "execution_count": 218,
   "id": "a26d61eb",
   "metadata": {},
   "outputs": [
    {
     "data": {
      "text/plain": [
       "array([1., 0.])"
      ]
     },
     "execution_count": 218,
     "metadata": {},
     "output_type": "execute_result"
    }
   ],
   "source": [
    "#Loan_Status\n",
    "#Ha a Loan Amountja nagyobb mint az átlag akkor nem kap hitelt\n",
    "\n",
    "mixed['Loan_Status'].value_counts(sort=True)\n",
    "mixed['Loan_Status'].fillna('unknown',inplace=True)\n",
    " \n",
    "def f_gen(series):\n",
    "    arr = mixed['LoanAmount'].values.round()\n",
    "    if (series['Loan_Status'] == 'unknown'):\n",
    "        if (series['LoanAmount'] >= arr.mean()):\n",
    "                return 0\n",
    "        else:\n",
    "            return 1\n",
    "    else: \n",
    "            return series['Loan_Status']\n",
    "    \n",
    "mixed['Loan_Status'] = mixed.apply(f_gen, axis='columns')\n",
    "mixed['Loan_Status'].unique()\n"
   ]
  },
  {
   "cell_type": "code",
   "execution_count": 219,
   "id": "1d42a081",
   "metadata": {},
   "outputs": [
    {
     "data": {
      "text/plain": [
       "Loan_ID              0\n",
       "Gender               0\n",
       "Married              0\n",
       "Dependents           0\n",
       "Education            0\n",
       "Self_Employed        0\n",
       "ApplicantIncome      0\n",
       "CoapplicantIncome    0\n",
       "LoanAmount           0\n",
       "Loan_Amount_Term     0\n",
       "Credit_History       0\n",
       "Property_Area        0\n",
       "Loan_Status          0\n",
       "dtype: int64"
      ]
     },
     "execution_count": 219,
     "metadata": {},
     "output_type": "execute_result"
    }
   ],
   "source": [
    "mixed.isnull().sum()"
   ]
  },
  {
   "cell_type": "code",
   "execution_count": null,
   "id": "55a6f01d",
   "metadata": {},
   "outputs": [],
   "source": []
  },
  {
   "cell_type": "code",
   "execution_count": null,
   "id": "fdaee707",
   "metadata": {},
   "outputs": [],
   "source": []
  },
  {
   "cell_type": "code",
   "execution_count": 220,
   "id": "b269660e",
   "metadata": {},
   "outputs": [
    {
     "data": {
      "text/plain": [
       "<AxesSubplot:>"
      ]
     },
     "execution_count": 220,
     "metadata": {},
     "output_type": "execute_result"
    },
    {
     "data": {
      "image/png": "[encoded data removed]",
      "text/plain": [
       "<Figure size 432x288 with 1 Axes>"
      ]
     },
     "metadata": {
      "needs_background": "light"
     },
     "output_type": "display_data"
    }
   ],
   "source": [
    "# A hisztogrammon látszik, hogy az adatok eléggé széjjel húznak\n",
    "# Loan Amount eloszlás ábrázolás\n",
    "mixed['LoanAmount'].hist(bins=30,color = 'purple') "
   ]
  },
  {
   "cell_type": "code",
   "execution_count": 221,
   "id": "94b11075",
   "metadata": {},
   "outputs": [
    {
     "data": {
      "text/plain": [
       "<AxesSubplot:>"
      ]
     },
     "execution_count": 221,
     "metadata": {},
     "output_type": "execute_result"
    },
    {
     "data": {
      "image/png": "[encoded data removed]",
      "text/plain": [
       "<Figure size 432x288 with 1 Axes>"
      ]
     },
     "metadata": {
      "needs_background": "light"
     },
     "output_type": "display_data"
    }
   ],
   "source": [
    "# Application Income eloszlás ábrázolás\n",
    "mixed['ApplicantIncome'].hist(bins=30,color = 'green') "
   ]
  },
  {
   "cell_type": "code",
   "execution_count": 222,
   "id": "c4e7088f",
   "metadata": {},
   "outputs": [
    {
     "data": {
      "text/plain": [
       "<AxesSubplot:>"
      ]
     },
     "execution_count": 222,
     "metadata": {},
     "output_type": "execute_result"
    },
    {
     "data": {
      "image/png": "[encoded data removed]",
      "text/plain": [
       "<Figure size 432x288 with 1 Axes>"
      ]
     },
     "metadata": {
      "needs_background": "light"
     },
     "output_type": "display_data"
    }
   ],
   "source": [
    "# CoapplicantIncome Income eloszlás ábrázolás\n",
    "mixed['CoapplicantIncome'].hist(bins=50,color = 'yellow') "
   ]
  },
  {
   "cell_type": "code",
   "execution_count": 224,
   "id": "32c2f4a2",
   "metadata": {},
   "outputs": [
    {
     "data": {
      "text/plain": [
       "<AxesSubplot:>"
      ]
     },
     "execution_count": 224,
     "metadata": {},
     "output_type": "execute_result"
    },
    {
     "data": {
      "image/png": "[encoded data removed]",
      "text/plain": [
       "<Figure size 432x288 with 1 Axes>"
      ]
     },
     "metadata": {
      "needs_background": "light"
     },
     "output_type": "display_data"
    }
   ],
   "source": [
    "# Loan_Amount_Term eloszlás ábrázolás\n",
    "Loan_Amount_Term\n",
    "mixed['Loan_Amount_Term'].hist(bins=50,color = 'blue') "
   ]
  },
  {
   "cell_type": "code",
   "execution_count": 225,
   "id": "694adf02",
   "metadata": {},
   "outputs": [],
   "source": [
    "#4 oszlop kiugró értékekkel\n",
    "# Ezt fentebb már megnéztük, hogy miért ezek:\n",
    "# ApplicantIncome\n",
    "# CoapplicantIncome\n",
    "# LoanAmount\n",
    "# Loan_Amount_Term\n",
    "\n",
    "# Normalizáló függvények meghívása\n",
    "normalise(mixed,'ApplicantIncome') \n",
    "normalise(mixed,'CoapplicantIncome') \n",
    "normalise(mixed,'LoanAmount') \n",
    "normalise(mixed,'Loan_Amount_Term') "
   ]
  },
  {
   "cell_type": "code",
   "execution_count": 226,
   "id": "d97e061e",
   "metadata": {},
   "outputs": [
    {
     "data": {
      "text/plain": [
       "<AxesSubplot:>"
      ]
     },
     "execution_count": 226,
     "metadata": {},
     "output_type": "execute_result"
    },
    {
     "data": {
      "image/png": "[encoded data removed]",
      "text/plain": [
       "<Figure size 432x288 with 1 Axes>"
      ]
     },
     "metadata": {
      "needs_background": "light"
     },
     "output_type": "display_data"
    }
   ],
   "source": [
    "# Szépen látszik, hogy már nincsenek olyan távol egymástól az értékek\n",
    "mixed['LoanAmount_norm'].hist(bins=30,color = 'purple') "
   ]
  },
  {
   "cell_type": "code",
   "execution_count": 227,
   "id": "fb2ea1ee",
   "metadata": {},
   "outputs": [
    {
     "data": {
      "text/plain": [
       "<AxesSubplot:>"
      ]
     },
     "execution_count": 227,
     "metadata": {},
     "output_type": "execute_result"
    },
    {
     "data": {
      "image/png": "[encoded data removed]",
      "text/plain": [
       "<Figure size 432x288 with 1 Axes>"
      ]
     },
     "metadata": {
      "needs_background": "light"
     },
     "output_type": "display_data"
    }
   ],
   "source": [
    "mixed['ApplicantIncome_norm'].hist(bins=30,color = 'green') "
   ]
  },
  {
   "cell_type": "code",
   "execution_count": 228,
   "id": "3de60842",
   "metadata": {},
   "outputs": [
    {
     "data": {
      "text/plain": [
       "<AxesSubplot:>"
      ]
     },
     "execution_count": 228,
     "metadata": {},
     "output_type": "execute_result"
    },
    {
     "data": {
      "image/png": "[encoded data removed]",
      "text/plain": [
       "<Figure size 432x288 with 1 Axes>"
      ]
     },
     "metadata": {
      "needs_background": "light"
     },
     "output_type": "display_data"
    }
   ],
   "source": [
    "# A nulla felett tornyosuló oszlop a log(0)-t mesterségesen átírt értékek miatt van\n",
    "mixed['CoapplicantIncome_norm'].hist(bins=30,color = 'yellow') "
   ]
  },
  {
   "cell_type": "code",
   "execution_count": 229,
   "id": "f1b7b5f1",
   "metadata": {},
   "outputs": [
    {
     "data": {
      "text/plain": [
       "<AxesSubplot:>"
      ]
     },
     "execution_count": 229,
     "metadata": {},
     "output_type": "execute_result"
    },
    {
     "data": {
      "image/png": "[encoded data removed]",
      "text/plain": [
       "<Figure size 432x288 with 1 Axes>"
      ]
     },
     "metadata": {
      "needs_background": "light"
     },
     "output_type": "display_data"
    }
   ],
   "source": [
    "mixed['Loan_Amount_Term_norm'].hist(bins=30,color = 'blue') "
   ]
  },
  {
   "cell_type": "code",
   "execution_count": 230,
   "id": "adddf0e8",
   "metadata": {},
   "outputs": [],
   "source": [
    "#split data first into train/test\n",
    " \n",
    "#Import models from scikit learn module:\n",
    "from sklearn.linear_model import LogisticRegression\n",
    "from sklearn.model_selection import KFold#For K-fold cross validation\n",
    "from sklearn.ensemble import RandomForestClassifier\n",
    "from sklearn.tree import DecisionTreeClassifier, export_graphviz\n",
    "from sklearn import metrics\n",
    " \n",
    "#Generic function for making a classification model and accessing performance:\n",
    "def classification_model(model, data, predictors, outcome):\n",
    " \n",
    "    #Fit the model:\n",
    "    model.fit(data[predictors],data[outcome])\n",
    " \n",
    "    #Make predictions on training set:\n",
    "    predictions = model.predict(data[predictors])\n",
    " \n",
    "    #Print accuracy\n",
    "    accuracy = metrics.accuracy_score(predictions,data[outcome])\n",
    "    print (\"Accuracy : %s\" % \"{0:.3%}\".format(accuracy))\n",
    "    #Perform k-fold cross-validation with 5 folds\n",
    "    kf = KFold(n_splits=5)\n",
    "    error = []\n",
    "    for train, test in kf.split(data):\n",
    "    # Filter training data\n",
    "        train_predictors = (data[predictors].iloc[train,:])\n",
    " \n",
    "    # The target we're using to train the algorithm.\n",
    "        train_target = data[outcome].iloc[train]\n",
    " \n",
    "    # Training the algorithm using the predictors and target.\n",
    "        model.fit(train_predictors, train_target)\n",
    " \n",
    "    #Record error from each cross-validation run\n",
    "        error.append(model.score(data[predictors].iloc[test,:], data[outcome].iloc[test]))\n",
    " \n",
    "    print (\"Cross-Validation Score : %s\" % \"{0:.3%}\".format(np.mean(error)))"
   ]
  },
  {
   "cell_type": "code",
   "execution_count": 232,
   "id": "7c5b2da3",
   "metadata": {},
   "outputs": [
    {
     "data": {
      "text/plain": [
       "Index(['Loan_ID', 'Gender', 'Married', 'Dependents', 'Education',\n",
       "       'Self_Employed', 'ApplicantIncome', 'CoapplicantIncome', 'LoanAmount',\n",
       "       'Loan_Amount_Term', 'Credit_History', 'Property_Area', 'Loan_Status',\n",
       "       'ApplicantIncome_norm', 'CoapplicantIncome_norm', 'LoanAmount_norm',\n",
       "       'Loan_Amount_Term_norm'],\n",
       "      dtype='object')"
      ]
     },
     "execution_count": 232,
     "metadata": {},
     "output_type": "execute_result"
    }
   ],
   "source": [
    "mixed.columns"
   ]
  },
  {
   "cell_type": "code",
   "execution_count": null,
   "id": "23c41863",
   "metadata": {},
   "outputs": [],
   "source": [
    "# Végigpróbálok különböző modelleket különböző megadott oszlopokkal, ami alapján prediktálja a Loan Status oszlopot"
   ]
  },
  {
   "cell_type": "code",
   "execution_count": 283,
   "id": "3590b9f1",
   "metadata": {},
   "outputs": [
    {
     "name": "stdout",
     "output_type": "stream",
     "text": [
      "Accuracy : 66.871%\n",
      "Cross-Validation Score : 72.778%\n"
     ]
    }
   ],
   "source": [
    "outcome_var = 'Loan_Status'\n",
    "model = LogisticRegression()\n",
    "predictor_var = ['ApplicantIncome', 'LoanAmount_norm', 'Credit_History']\n",
    "classification_model(model, mixed, predictor_var, outcome_var)"
   ]
  },
  {
   "cell_type": "code",
   "execution_count": 284,
   "id": "5c346e4a",
   "metadata": {},
   "outputs": [
    {
     "name": "stdout",
     "output_type": "stream",
     "text": [
      "Accuracy : 99.796%\n",
      "Cross-Validation Score : 65.644%\n"
     ]
    }
   ],
   "source": [
    "outcome_var = 'Loan_Status'\n",
    "model = DecisionTreeClassifier()\n",
    "predictor_var = ['ApplicantIncome', 'LoanAmount_norm', 'Credit_History']\n",
    "classification_model(model, mixed, predictor_var, outcome_var)"
   ]
  },
  {
   "cell_type": "code",
   "execution_count": 285,
   "id": "daa47b0f",
   "metadata": {},
   "outputs": [
    {
     "name": "stdout",
     "output_type": "stream",
     "text": [
      "Accuracy : 99.796%\n",
      "Cross-Validation Score : 66.971%\n"
     ]
    }
   ],
   "source": [
    "outcome_var = 'Loan_Status'\n",
    "model = RandomForestClassifier()\n",
    "predictor_var = ['ApplicantIncome', 'LoanAmount_norm', 'Credit_History']\n",
    "classification_model(model, mixed, predictor_var, outcome_var)"
   ]
  },
  {
   "cell_type": "code",
   "execution_count": 286,
   "id": "26ef7fdb",
   "metadata": {},
   "outputs": [
    {
     "name": "stdout",
     "output_type": "stream",
     "text": [
      "ApplicantIncome    0.441233\n",
      "LoanAmount_norm    0.372035\n",
      "Credit_History     0.186732\n",
      "dtype: float64\n"
     ]
    }
   ],
   "source": [
    "featimp = pd.Series(model.feature_importances_, index=predictor_var).sort_values(ascending=False)\n",
    "print(featimp)"
   ]
  },
  {
   "cell_type": "code",
   "execution_count": null,
   "id": "785975e0",
   "metadata": {},
   "outputs": [],
   "source": []
  },
  {
   "cell_type": "code",
   "execution_count": null,
   "id": "d21e5b21",
   "metadata": {},
   "outputs": [],
   "source": []
  }
 ],
 "metadata": {
  "kernelspec": {
   "display_name": "Python 3",
   "language": "python",
   "name": "python3"
  },
  "language_info": {
   "codemirror_mode": {
    "name": "ipython",
    "version": 3
   },
   "file_extension": ".py",
   "mimetype": "text/x-python",
   "name": "python",
   "nbconvert_exporter": "python",
   "pygments_lexer": "ipython3",
   "version": "3.8.8"
  }
 },
 "nbformat": 4,
 "nbformat_minor": 5
}
