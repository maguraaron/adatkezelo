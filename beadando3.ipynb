{
 "cells": [
  {
   "cell_type": "code",
   "execution_count": 404,
   "id": "f08e7ca9-5694-44db-a44f-536fffcb1687",
   "metadata": {},
   "outputs": [],
   "source": [
    "# Magura Áron - P8ETS6"
   ]
  },
  {
   "cell_type": "code",
   "execution_count": 405,
   "id": "128e0214-325e-44d9-945f-cb12193195cd",
   "metadata": {},
   "outputs": [],
   "source": [
    "import pandas as pd\n",
    "import numpy as np"
   ]
  },
  {
   "cell_type": "code",
   "execution_count": 406,
   "id": "af6ed31f-1619-4fc7-90d7-4ce697dc311c",
   "metadata": {},
   "outputs": [],
   "source": [
    "train = pd.read_csv(\"./train2.csv\")\n",
    "test = pd.read_csv(\"./test2.csv\")"
   ]
  },
  {
   "cell_type": "code",
   "execution_count": 407,
   "id": "960ad83f-6396-4ccc-b553-9dcc0afb4eac",
   "metadata": {},
   "outputs": [
    {
     "data": {
      "text/html": [
       "<div>\n",
       "<style scoped>\n",
       "    .dataframe tbody tr th:only-of-type {\n",
       "        vertical-align: middle;\n",
       "    }\n",
       "\n",
       "    .dataframe tbody tr th {\n",
       "        vertical-align: top;\n",
       "    }\n",
       "\n",
       "    .dataframe thead th {\n",
       "        text-align: right;\n",
       "    }\n",
       "</style>\n",
       "<table border=\"1\" class=\"dataframe\">\n",
       "  <thead>\n",
       "    <tr style=\"text-align: right;\">\n",
       "      <th></th>\n",
       "      <th>Unnamed: 0</th>\n",
       "      <th>age</th>\n",
       "      <th>workclass</th>\n",
       "      <th>fnlwgt</th>\n",
       "      <th>education</th>\n",
       "      <th>education.num</th>\n",
       "      <th>marital.status</th>\n",
       "      <th>occupation</th>\n",
       "      <th>relationship</th>\n",
       "      <th>race</th>\n",
       "      <th>sex</th>\n",
       "      <th>capital.gain</th>\n",
       "      <th>capital.loss</th>\n",
       "      <th>hours.per.week</th>\n",
       "      <th>native.country</th>\n",
       "      <th>target</th>\n",
       "      <th>name_of_school</th>\n",
       "      <th>native_language</th>\n",
       "      <th>learned_foreign_language</th>\n",
       "      <th>level_of_skill</th>\n",
       "    </tr>\n",
       "  </thead>\n",
       "  <tbody>\n",
       "    <tr>\n",
       "      <th>0</th>\n",
       "      <td>0</td>\n",
       "      <td>39</td>\n",
       "      <td>State-gov</td>\n",
       "      <td>77516</td>\n",
       "      <td>Bsc</td>\n",
       "      <td>13</td>\n",
       "      <td>Never-married</td>\n",
       "      <td>Adm-clerical</td>\n",
       "      <td>Not-in-family</td>\n",
       "      <td>White</td>\n",
       "      <td>Male</td>\n",
       "      <td>2174</td>\n",
       "      <td>0</td>\n",
       "      <td>40</td>\n",
       "      <td>United-States</td>\n",
       "      <td>&lt;=50K</td>\n",
       "      <td>Debreceni Egyetem</td>\n",
       "      <td>English</td>\n",
       "      <td>German</td>\n",
       "      <td>C1</td>\n",
       "    </tr>\n",
       "    <tr>\n",
       "      <th>1</th>\n",
       "      <td>1</td>\n",
       "      <td>50</td>\n",
       "      <td>Self-emp-not-inc</td>\n",
       "      <td>83311</td>\n",
       "      <td>Bsc</td>\n",
       "      <td>13</td>\n",
       "      <td>Married-civ-spouse</td>\n",
       "      <td>Exec-managerial</td>\n",
       "      <td>Husband</td>\n",
       "      <td>White</td>\n",
       "      <td>Male</td>\n",
       "      <td>0</td>\n",
       "      <td>0</td>\n",
       "      <td>13</td>\n",
       "      <td>United-States</td>\n",
       "      <td>&lt;=50K</td>\n",
       "      <td>Debreceni Egyetem</td>\n",
       "      <td>English</td>\n",
       "      <td>French</td>\n",
       "      <td>A1</td>\n",
       "    </tr>\n",
       "    <tr>\n",
       "      <th>2</th>\n",
       "      <td>2</td>\n",
       "      <td>38</td>\n",
       "      <td>Private</td>\n",
       "      <td>215646</td>\n",
       "      <td>high school</td>\n",
       "      <td>9</td>\n",
       "      <td>Divorced</td>\n",
       "      <td>Handlers-cleaners</td>\n",
       "      <td>Not-in-family</td>\n",
       "      <td>White</td>\n",
       "      <td>Male</td>\n",
       "      <td>0</td>\n",
       "      <td>0</td>\n",
       "      <td>40</td>\n",
       "      <td>United-States</td>\n",
       "      <td>&lt;=50K</td>\n",
       "      <td>DRK Doczy Gimnaziuma</td>\n",
       "      <td>English</td>\n",
       "      <td>German</td>\n",
       "      <td>B1</td>\n",
       "    </tr>\n",
       "    <tr>\n",
       "      <th>3</th>\n",
       "      <td>3</td>\n",
       "      <td>53</td>\n",
       "      <td>Private</td>\n",
       "      <td>234721</td>\n",
       "      <td>secondary school</td>\n",
       "      <td>7</td>\n",
       "      <td>Married-civ-spouse</td>\n",
       "      <td>Handlers-cleaners</td>\n",
       "      <td>Husband</td>\n",
       "      <td>Black</td>\n",
       "      <td>Male</td>\n",
       "      <td>0</td>\n",
       "      <td>0</td>\n",
       "      <td>40</td>\n",
       "      <td>United-States</td>\n",
       "      <td>&lt;=50K</td>\n",
       "      <td>Toth Arpad Gimnazium</td>\n",
       "      <td>English</td>\n",
       "      <td>German</td>\n",
       "      <td>B2</td>\n",
       "    </tr>\n",
       "    <tr>\n",
       "      <th>4</th>\n",
       "      <td>4</td>\n",
       "      <td>28</td>\n",
       "      <td>Private</td>\n",
       "      <td>338409</td>\n",
       "      <td>Bsc</td>\n",
       "      <td>13</td>\n",
       "      <td>Married-civ-spouse</td>\n",
       "      <td>Prof-specialty</td>\n",
       "      <td>Wife</td>\n",
       "      <td>Black</td>\n",
       "      <td>Female</td>\n",
       "      <td>0</td>\n",
       "      <td>0</td>\n",
       "      <td>40</td>\n",
       "      <td>Cuba</td>\n",
       "      <td>&lt;=50K</td>\n",
       "      <td>Debreceni Egyetem</td>\n",
       "      <td>Spanish</td>\n",
       "      <td>Italian</td>\n",
       "      <td>C1</td>\n",
       "    </tr>\n",
       "  </tbody>\n",
       "</table>\n",
       "</div>"
      ],
      "text/plain": [
       "   Unnamed: 0  age         workclass  fnlwgt         education  education.num  \\\n",
       "0           0   39         State-gov   77516               Bsc             13   \n",
       "1           1   50  Self-emp-not-inc   83311               Bsc             13   \n",
       "2           2   38           Private  215646       high school              9   \n",
       "3           3   53           Private  234721  secondary school              7   \n",
       "4           4   28           Private  338409               Bsc             13   \n",
       "\n",
       "       marital.status         occupation   relationship   race     sex  \\\n",
       "0       Never-married       Adm-clerical  Not-in-family  White    Male   \n",
       "1  Married-civ-spouse    Exec-managerial        Husband  White    Male   \n",
       "2            Divorced  Handlers-cleaners  Not-in-family  White    Male   \n",
       "3  Married-civ-spouse  Handlers-cleaners        Husband  Black    Male   \n",
       "4  Married-civ-spouse     Prof-specialty           Wife  Black  Female   \n",
       "\n",
       "   capital.gain  capital.loss  hours.per.week native.country target  \\\n",
       "0          2174             0              40  United-States  <=50K   \n",
       "1             0             0              13  United-States  <=50K   \n",
       "2             0             0              40  United-States  <=50K   \n",
       "3             0             0              40  United-States  <=50K   \n",
       "4             0             0              40           Cuba  <=50K   \n",
       "\n",
       "         name_of_school native_language learned_foreign_language  \\\n",
       "0     Debreceni Egyetem         English                   German   \n",
       "1     Debreceni Egyetem         English                   French   \n",
       "2  DRK Doczy Gimnaziuma         English                   German   \n",
       "3  Toth Arpad Gimnazium         English                   German   \n",
       "4     Debreceni Egyetem         Spanish                  Italian   \n",
       "\n",
       "  level_of_skill  \n",
       "0             C1  \n",
       "1             A1  \n",
       "2             B1  \n",
       "3             B2  \n",
       "4             C1  "
      ]
     },
     "execution_count": 407,
     "metadata": {},
     "output_type": "execute_result"
    }
   ],
   "source": [
    "train.head()"
   ]
  },
  {
   "cell_type": "code",
   "execution_count": 408,
   "id": "9ee73343-3f32-48cd-a9e2-dd4297c00a5c",
   "metadata": {},
   "outputs": [
    {
     "data": {
      "text/html": [
       "<div>\n",
       "<style scoped>\n",
       "    .dataframe tbody tr th:only-of-type {\n",
       "        vertical-align: middle;\n",
       "    }\n",
       "\n",
       "    .dataframe tbody tr th {\n",
       "        vertical-align: top;\n",
       "    }\n",
       "\n",
       "    .dataframe thead th {\n",
       "        text-align: right;\n",
       "    }\n",
       "</style>\n",
       "<table border=\"1\" class=\"dataframe\">\n",
       "  <thead>\n",
       "    <tr style=\"text-align: right;\">\n",
       "      <th></th>\n",
       "      <th>Unnamed: 0</th>\n",
       "      <th>age</th>\n",
       "      <th>workclass</th>\n",
       "      <th>fnlwgt</th>\n",
       "      <th>education</th>\n",
       "      <th>education.num</th>\n",
       "      <th>marital.status</th>\n",
       "      <th>occupation</th>\n",
       "      <th>relationship</th>\n",
       "      <th>race</th>\n",
       "      <th>sex</th>\n",
       "      <th>capital.gain</th>\n",
       "      <th>capital.loss</th>\n",
       "      <th>hours.per.week</th>\n",
       "      <th>native.country</th>\n",
       "      <th>target</th>\n",
       "      <th>name_of_school</th>\n",
       "      <th>native_language</th>\n",
       "      <th>learned_foreign_language</th>\n",
       "      <th>level_of_skill</th>\n",
       "    </tr>\n",
       "  </thead>\n",
       "  <tbody>\n",
       "    <tr>\n",
       "      <th>0</th>\n",
       "      <td>0</td>\n",
       "      <td>25</td>\n",
       "      <td>Private</td>\n",
       "      <td>226802</td>\n",
       "      <td>secondary school</td>\n",
       "      <td>7</td>\n",
       "      <td>Never-married</td>\n",
       "      <td>Machine-op-inspct</td>\n",
       "      <td>Own-child</td>\n",
       "      <td>Black</td>\n",
       "      <td>Male</td>\n",
       "      <td>0</td>\n",
       "      <td>0</td>\n",
       "      <td>40</td>\n",
       "      <td>United-States</td>\n",
       "      <td>&lt;=50K.</td>\n",
       "      <td>Toth Arpad Gimnazium</td>\n",
       "      <td>English</td>\n",
       "      <td>Russian</td>\n",
       "      <td>A1</td>\n",
       "    </tr>\n",
       "    <tr>\n",
       "      <th>1</th>\n",
       "      <td>1</td>\n",
       "      <td>38</td>\n",
       "      <td>Private</td>\n",
       "      <td>89814</td>\n",
       "      <td>high school</td>\n",
       "      <td>9</td>\n",
       "      <td>Married-civ-spouse</td>\n",
       "      <td>Farming-fishing</td>\n",
       "      <td>Husband</td>\n",
       "      <td>White</td>\n",
       "      <td>Male</td>\n",
       "      <td>0</td>\n",
       "      <td>0</td>\n",
       "      <td>50</td>\n",
       "      <td>United-States</td>\n",
       "      <td>&lt;=50K.</td>\n",
       "      <td>DRK Doczy Gimnaziuma</td>\n",
       "      <td>English</td>\n",
       "      <td>German</td>\n",
       "      <td>B2</td>\n",
       "    </tr>\n",
       "    <tr>\n",
       "      <th>2</th>\n",
       "      <td>2</td>\n",
       "      <td>28</td>\n",
       "      <td>Local-gov</td>\n",
       "      <td>336951</td>\n",
       "      <td>Bsc</td>\n",
       "      <td>12</td>\n",
       "      <td>Married-civ-spouse</td>\n",
       "      <td>Protective-serv</td>\n",
       "      <td>Husband</td>\n",
       "      <td>White</td>\n",
       "      <td>Male</td>\n",
       "      <td>0</td>\n",
       "      <td>0</td>\n",
       "      <td>40</td>\n",
       "      <td>United-States</td>\n",
       "      <td>&gt;50K.</td>\n",
       "      <td>Debreceni Egyetem</td>\n",
       "      <td>English</td>\n",
       "      <td>German</td>\n",
       "      <td>A1</td>\n",
       "    </tr>\n",
       "    <tr>\n",
       "      <th>3</th>\n",
       "      <td>3</td>\n",
       "      <td>44</td>\n",
       "      <td>Private</td>\n",
       "      <td>160323</td>\n",
       "      <td>Bsc</td>\n",
       "      <td>10</td>\n",
       "      <td>Married-civ-spouse</td>\n",
       "      <td>Machine-op-inspct</td>\n",
       "      <td>Husband</td>\n",
       "      <td>Black</td>\n",
       "      <td>Male</td>\n",
       "      <td>7688</td>\n",
       "      <td>0</td>\n",
       "      <td>40</td>\n",
       "      <td>United-States</td>\n",
       "      <td>&gt;50K.</td>\n",
       "      <td>Debreceni Egyetem</td>\n",
       "      <td>English</td>\n",
       "      <td>Spanish</td>\n",
       "      <td>C2</td>\n",
       "    </tr>\n",
       "    <tr>\n",
       "      <th>4</th>\n",
       "      <td>4</td>\n",
       "      <td>18</td>\n",
       "      <td>Private</td>\n",
       "      <td>103497</td>\n",
       "      <td>Bsc</td>\n",
       "      <td>10</td>\n",
       "      <td>Never-married</td>\n",
       "      <td>Prof-specialty</td>\n",
       "      <td>Own-child</td>\n",
       "      <td>White</td>\n",
       "      <td>Female</td>\n",
       "      <td>0</td>\n",
       "      <td>0</td>\n",
       "      <td>30</td>\n",
       "      <td>United-States</td>\n",
       "      <td>&lt;=50K.</td>\n",
       "      <td>Debreceni Egyetem</td>\n",
       "      <td>English</td>\n",
       "      <td>German</td>\n",
       "      <td>C2</td>\n",
       "    </tr>\n",
       "  </tbody>\n",
       "</table>\n",
       "</div>"
      ],
      "text/plain": [
       "   Unnamed: 0  age  workclass  fnlwgt         education  education.num  \\\n",
       "0           0   25    Private  226802  secondary school              7   \n",
       "1           1   38    Private   89814       high school              9   \n",
       "2           2   28  Local-gov  336951               Bsc             12   \n",
       "3           3   44    Private  160323               Bsc             10   \n",
       "4           4   18    Private  103497               Bsc             10   \n",
       "\n",
       "       marital.status         occupation relationship   race     sex  \\\n",
       "0       Never-married  Machine-op-inspct    Own-child  Black    Male   \n",
       "1  Married-civ-spouse    Farming-fishing      Husband  White    Male   \n",
       "2  Married-civ-spouse    Protective-serv      Husband  White    Male   \n",
       "3  Married-civ-spouse  Machine-op-inspct      Husband  Black    Male   \n",
       "4       Never-married     Prof-specialty    Own-child  White  Female   \n",
       "\n",
       "   capital.gain  capital.loss  hours.per.week native.country  target  \\\n",
       "0             0             0              40  United-States  <=50K.   \n",
       "1             0             0              50  United-States  <=50K.   \n",
       "2             0             0              40  United-States   >50K.   \n",
       "3          7688             0              40  United-States   >50K.   \n",
       "4             0             0              30  United-States  <=50K.   \n",
       "\n",
       "         name_of_school native_language learned_foreign_language  \\\n",
       "0  Toth Arpad Gimnazium         English                  Russian   \n",
       "1  DRK Doczy Gimnaziuma         English                   German   \n",
       "2     Debreceni Egyetem         English                   German   \n",
       "3     Debreceni Egyetem         English                  Spanish   \n",
       "4     Debreceni Egyetem         English                   German   \n",
       "\n",
       "  level_of_skill  \n",
       "0             A1  \n",
       "1             B2  \n",
       "2             A1  \n",
       "3             C2  \n",
       "4             C2  "
      ]
     },
     "execution_count": 408,
     "metadata": {},
     "output_type": "execute_result"
    }
   ],
   "source": [
    "test.head()"
   ]
  },
  {
   "cell_type": "code",
   "execution_count": 409,
   "id": "a5514c18-8906-4bdc-9171-e13f2d4ad967",
   "metadata": {},
   "outputs": [
    {
     "data": {
      "text/plain": [
       "<Axes: xlabel='education'>"
      ]
     },
     "execution_count": 409,
     "metadata": {},
     "output_type": "execute_result"
    },
    {
     "data": {
      "image/png": "[encoded data removed]",
      "text/plain": [
       "<Figure size 640x480 with 1 Axes>"
      ]
     },
     "metadata": {},
     "output_type": "display_data"
    }
   ],
   "source": [
    "fsc = pd.crosstab(train.education, train.sex)\n",
    "fsc.plot(kind = 'bar', stacked = True, color=['pink', 'blue'], grid = False)"
   ]
  },
  {
   "cell_type": "code",
   "execution_count": 410,
   "id": "47342a5b-23fc-4406-9510-0703936561ab",
   "metadata": {},
   "outputs": [
    {
     "data": {
      "text/plain": [
       "<Axes: xlabel='sex'>"
      ]
     },
     "execution_count": 410,
     "metadata": {},
     "output_type": "execute_result"
    },
    {
     "data": {
      "image/png": "[encoded data removed]",
      "text/plain": [
       "<Figure size 640x480 with 1 Axes>"
      ]
     },
     "metadata": {},
     "output_type": "display_data"
    }
   ],
   "source": [
    "fsc = pd.crosstab(train.sex, train.target)\n",
    "fsc.plot(kind = 'bar', stacked = True, color=['red', 'blue'], grid = False)"
   ]
  },
  {
   "cell_type": "code",
   "execution_count": 411,
   "id": "4eb5235d-5951-44d1-9cc6-e982d882b950",
   "metadata": {},
   "outputs": [
    {
     "data": {
      "text/plain": [
       "sex\n",
       "Male      21790\n",
       "Female    10771\n",
       "Name: count, dtype: int64"
      ]
     },
     "execution_count": 411,
     "metadata": {},
     "output_type": "execute_result"
    }
   ],
   "source": [
    "train.sex.value_counts()"
   ]
  },
  {
   "cell_type": "code",
   "execution_count": 412,
   "id": "ed53c96f-5242-451d-8bfe-a4f76d07f328",
   "metadata": {},
   "outputs": [
    {
     "data": {
      "text/plain": [
       "<Axes: xlabel='education'>"
      ]
     },
     "execution_count": 412,
     "metadata": {},
     "output_type": "execute_result"
    },
    {
     "data": {
      "image/png": "[encoded data removed]",
      "text/plain": [
       "<Figure size 640x480 with 1 Axes>"
      ]
     },
     "metadata": {},
     "output_type": "display_data"
    }
   ],
   "source": [
    "fsc = pd.crosstab(train.education, train.target)\n",
    "fsc.plot(kind = 'bar', stacked = True, color=['red', 'blue'], grid = False)"
   ]
  },
  {
   "cell_type": "code",
   "execution_count": 413,
   "id": "5d6872fb-90ae-414a-86b0-7d5d56dab171",
   "metadata": {},
   "outputs": [
    {
     "data": {
      "text/plain": [
       "count    32561.000000\n",
       "mean        38.581647\n",
       "std         13.640433\n",
       "min         17.000000\n",
       "25%         28.000000\n",
       "50%         37.000000\n",
       "75%         48.000000\n",
       "max         90.000000\n",
       "Name: age, dtype: float64"
      ]
     },
     "execution_count": 413,
     "metadata": {},
     "output_type": "execute_result"
    }
   ],
   "source": [
    "train.age.describe()"
   ]
  },
  {
   "cell_type": "code",
   "execution_count": 414,
   "id": "e52fd2b4-db6d-406f-8c0c-304aac77304e",
   "metadata": {},
   "outputs": [
    {
     "data": {
      "text/plain": [
       "<Axes: >"
      ]
     },
     "execution_count": 414,
     "metadata": {},
     "output_type": "execute_result"
    },
    {
     "data": {
      "image/png": "[encoded data removed]",
      "text/plain": [
       "<Figure size 640x480 with 1 Axes>"
      ]
     },
     "metadata": {},
     "output_type": "display_data"
    }
   ],
   "source": [
    "train['age'].hist(bins=74)"
   ]
  },
  {
   "cell_type": "code",
   "execution_count": 415,
   "id": "4448102c-f65e-407e-bb3f-e5e22302df85",
   "metadata": {},
   "outputs": [
    {
     "data": {
      "text/plain": [
       "count    32561.000000\n",
       "mean        40.437456\n",
       "std         12.347429\n",
       "min          1.000000\n",
       "25%         40.000000\n",
       "50%         40.000000\n",
       "75%         45.000000\n",
       "max         99.000000\n",
       "Name: hours.per.week, dtype: float64"
      ]
     },
     "execution_count": 415,
     "metadata": {},
     "output_type": "execute_result"
    }
   ],
   "source": [
    "train['hours.per.week'].describe()"
   ]
  },
  {
   "cell_type": "code",
   "execution_count": 416,
   "id": "e15eca1b-542a-4376-96b3-64348ba4c218",
   "metadata": {},
   "outputs": [
    {
     "data": {
      "text/plain": [
       "<Axes: >"
      ]
     },
     "execution_count": 416,
     "metadata": {},
     "output_type": "execute_result"
    },
    {
     "data": {
      "image/png": "[encoded data removed]",
      "text/plain": [
       "<Figure size 640x480 with 1 Axes>"
      ]
     },
     "metadata": {},
     "output_type": "display_data"
    }
   ],
   "source": [
    "train['hours.per.week'].hist(bins=10)"
   ]
  },
  {
   "cell_type": "code",
   "execution_count": 417,
   "id": "4dbf4085-3acb-4f37-8d03-4eb292f1bc39",
   "metadata": {},
   "outputs": [
    {
     "data": {
      "text/plain": [
       "count    3.256100e+04\n",
       "mean     1.897784e+05\n",
       "std      1.055500e+05\n",
       "min      1.228500e+04\n",
       "25%      1.178270e+05\n",
       "50%      1.783560e+05\n",
       "75%      2.370510e+05\n",
       "max      1.484705e+06\n",
       "Name: fnlwgt, dtype: float64"
      ]
     },
     "execution_count": 417,
     "metadata": {},
     "output_type": "execute_result"
    }
   ],
   "source": [
    "train.fnlwgt.describe()"
   ]
  },
  {
   "cell_type": "code",
   "execution_count": 418,
   "id": "e8a9d6cd-c961-46c3-9592-17ad1d792b8e",
   "metadata": {},
   "outputs": [
    {
     "data": {
      "text/plain": [
       "<Axes: >"
      ]
     },
     "execution_count": 418,
     "metadata": {},
     "output_type": "execute_result"
    },
    {
     "data": {
      "image/png": "[encoded data removed]",
      "text/plain": [
       "<Figure size 640x480 with 1 Axes>"
      ]
     },
     "metadata": {},
     "output_type": "display_data"
    }
   ],
   "source": [
    "train['fnlwgt'].hist(bins=100)"
   ]
  },
  {
   "cell_type": "code",
   "execution_count": 419,
   "id": "d129d4f6-ede7-4ac4-8ae8-7986399a3ce2",
   "metadata": {},
   "outputs": [
    {
     "data": {
      "text/plain": [
       "<Axes: >"
      ]
     },
     "execution_count": 419,
     "metadata": {},
     "output_type": "execute_result"
    },
    {
     "data": {
      "image/png": "[encoded data removed]",
      "text/plain": [
       "<Figure size 640x480 with 1 Axes>"
      ]
     },
     "metadata": {},
     "output_type": "display_data"
    }
   ],
   "source": [
    "train.boxplot(column='fnlwgt')"
   ]
  },
  {
   "cell_type": "code",
   "execution_count": 420,
   "id": "841a175b-fb73-46f0-a76e-fcfbec553c6a",
   "metadata": {},
   "outputs": [
    {
     "data": {
      "text/plain": [
       "<Axes: title={'center': 'fnlwgt'}, xlabel='education'>"
      ]
     },
     "execution_count": 420,
     "metadata": {},
     "output_type": "execute_result"
    },
    {
     "data": {
      "image/png": "[encoded data removed]",
      "text/plain": [
       "<Figure size 640x480 with 1 Axes>"
      ]
     },
     "metadata": {},
     "output_type": "display_data"
    }
   ],
   "source": [
    "train.boxplot(column='fnlwgt', by = 'education')"
   ]
  },
  {
   "cell_type": "code",
   "execution_count": 421,
   "id": "85b540dd-c523-485d-9e74-d8fe0065c425",
   "metadata": {},
   "outputs": [
    {
     "data": {
      "text/plain": [
       "count    32561.000000\n",
       "mean      1077.648844\n",
       "std       7385.292085\n",
       "min          0.000000\n",
       "25%          0.000000\n",
       "50%          0.000000\n",
       "75%          0.000000\n",
       "max      99999.000000\n",
       "Name: capital.gain, dtype: float64"
      ]
     },
     "execution_count": 421,
     "metadata": {},
     "output_type": "execute_result"
    }
   ],
   "source": [
    "train['capital.gain'].describe()"
   ]
  },
  {
   "cell_type": "code",
   "execution_count": 422,
   "id": "6d363ef2-9472-4b39-9f6f-1eacdfb3f40d",
   "metadata": {},
   "outputs": [
    {
     "data": {
      "text/plain": [
       "<Axes: >"
      ]
     },
     "execution_count": 422,
     "metadata": {},
     "output_type": "execute_result"
    },
    {
     "data": {
      "image/png": "[encoded data removed]",
      "text/plain": [
       "<Figure size 640x480 with 1 Axes>"
      ]
     },
     "metadata": {},
     "output_type": "display_data"
    }
   ],
   "source": [
    "train.boxplot(column='capital.gain')"
   ]
  },
  {
   "cell_type": "code",
   "execution_count": 423,
   "id": "5125e88f-5f7d-4a1e-b37e-fed12d452f40",
   "metadata": {},
   "outputs": [
    {
     "data": {
      "text/plain": [
       "count    32561.000000\n",
       "mean        87.303830\n",
       "std        402.960219\n",
       "min          0.000000\n",
       "25%          0.000000\n",
       "50%          0.000000\n",
       "75%          0.000000\n",
       "max       4356.000000\n",
       "Name: capital.loss, dtype: float64"
      ]
     },
     "execution_count": 423,
     "metadata": {},
     "output_type": "execute_result"
    }
   ],
   "source": [
    "train['capital.loss'].describe()"
   ]
  },
  {
   "cell_type": "code",
   "execution_count": 424,
   "id": "f55f949b-d119-42d2-bdd9-07ed52110888",
   "metadata": {},
   "outputs": [
    {
     "data": {
      "text/plain": [
       "<Axes: >"
      ]
     },
     "execution_count": 424,
     "metadata": {},
     "output_type": "execute_result"
    },
    {
     "data": {
      "image/png": "[encoded data removed]",
      "text/plain": [
       "<Figure size 640x480 with 1 Axes>"
      ]
     },
     "metadata": {},
     "output_type": "display_data"
    }
   ],
   "source": [
    "train.boxplot(column='capital.loss')"
   ]
  },
  {
   "cell_type": "code",
   "execution_count": 425,
   "id": "3997fb04-d823-4bd9-88dd-79e350ee5ab4",
   "metadata": {},
   "outputs": [
    {
     "data": {
      "text/plain": [
       "Unnamed: 0                  0\n",
       "age                         0\n",
       "workclass                   0\n",
       "fnlwgt                      0\n",
       "education                   0\n",
       "education.num               0\n",
       "marital.status              0\n",
       "occupation                  0\n",
       "relationship                0\n",
       "race                        0\n",
       "sex                         0\n",
       "capital.gain                0\n",
       "capital.loss                0\n",
       "hours.per.week              0\n",
       "native.country              0\n",
       "target                      0\n",
       "name_of_school              0\n",
       "native_language             0\n",
       "learned_foreign_language    0\n",
       "level_of_skill              0\n",
       "dtype: int64"
      ]
     },
     "execution_count": 425,
     "metadata": {},
     "output_type": "execute_result"
    }
   ],
   "source": [
    "train.isnull().sum()"
   ]
  },
  {
   "cell_type": "code",
   "execution_count": 426,
   "id": "aef3bfec-6dfb-4158-b85a-5f164e232994",
   "metadata": {},
   "outputs": [
    {
     "data": {
      "text/plain": [
       "Unnamed: 0                  0\n",
       "age                         0\n",
       "workclass                   0\n",
       "fnlwgt                      0\n",
       "education                   0\n",
       "education.num               0\n",
       "marital.status              0\n",
       "occupation                  0\n",
       "relationship                0\n",
       "race                        0\n",
       "sex                         0\n",
       "capital.gain                0\n",
       "capital.loss                0\n",
       "hours.per.week              0\n",
       "native.country              0\n",
       "target                      0\n",
       "name_of_school              0\n",
       "native_language             0\n",
       "learned_foreign_language    0\n",
       "level_of_skill              0\n",
       "dtype: int64"
      ]
     },
     "execution_count": 426,
     "metadata": {},
     "output_type": "execute_result"
    }
   ],
   "source": [
    "test.isnull().sum()"
   ]
  },
  {
   "cell_type": "code",
   "execution_count": 427,
   "id": "82d56f1c-c770-4cf7-89bd-e4f4d119d526",
   "metadata": {},
   "outputs": [],
   "source": [
    "# mivel az előző beadandó módosított adathalmazával dolgozok, nincsenek hiányzó adatok"
   ]
  },
  {
   "cell_type": "code",
   "execution_count": 428,
   "id": "25f01bc2-b1c0-42f6-a3c1-1215610b6a01",
   "metadata": {},
   "outputs": [],
   "source": [
    "train['fnlwgt_log'] = np.log(train.fnlwgt)"
   ]
  },
  {
   "cell_type": "code",
   "execution_count": 429,
   "id": "c26c835e-eccf-4832-a0f6-155a3cc786be",
   "metadata": {},
   "outputs": [
    {
     "data": {
      "text/plain": [
       "<Axes: >"
      ]
     },
     "execution_count": 429,
     "metadata": {},
     "output_type": "execute_result"
    },
    {
     "data": {
      "image/png": "[encoded data removed]",
      "text/plain": [
       "<Figure size 640x480 with 1 Axes>"
      ]
     },
     "metadata": {},
     "output_type": "display_data"
    }
   ],
   "source": [
    "train['fnlwgt_log'].hist(bins=50)"
   ]
  },
  {
   "cell_type": "code",
   "execution_count": 430,
   "id": "48809189-a117-4185-8682-874d2b371677",
   "metadata": {},
   "outputs": [
    {
     "data": {
      "text/plain": [
       "<Axes: >"
      ]
     },
     "execution_count": 430,
     "metadata": {},
     "output_type": "execute_result"
    },
    {
     "data": {
      "image/png": "[encoded data removed]",
      "text/plain": [
       "<Figure size 640x480 with 1 Axes>"
      ]
     },
     "metadata": {},
     "output_type": "display_data"
    }
   ],
   "source": [
    "train.boxplot(column='fnlwgt_log')"
   ]
  },
  {
   "cell_type": "code",
   "execution_count": 431,
   "id": "3d1acc39-51f3-43ba-8fd8-f06a837f1709",
   "metadata": {},
   "outputs": [],
   "source": [
    "train['cap_gain_log'] = train['capital.gain'] + 1"
   ]
  },
  {
   "cell_type": "code",
   "execution_count": 432,
   "id": "3cfda2c8-b91c-4434-ab0c-c673737de474",
   "metadata": {},
   "outputs": [],
   "source": [
    "train['cap_gain_log'] = np.log(train.cap_gain_log)"
   ]
  },
  {
   "cell_type": "code",
   "execution_count": 433,
   "id": "ea537af3-55e5-4b9e-8d04-e82bce3fd74d",
   "metadata": {},
   "outputs": [
    {
     "data": {
      "text/plain": [
       "<Axes: >"
      ]
     },
     "execution_count": 433,
     "metadata": {},
     "output_type": "execute_result"
    },
    {
     "data": {
      "image/png": "[encoded data removed]",
      "text/plain": [
       "<Figure size 640x480 with 1 Axes>"
      ]
     },
     "metadata": {},
     "output_type": "display_data"
    }
   ],
   "source": [
    "train.boxplot(column='cap_gain_log')"
   ]
  },
  {
   "cell_type": "code",
   "execution_count": 434,
   "id": "6fce251e-ac1c-4e1f-9c9b-78a08d51addd",
   "metadata": {},
   "outputs": [],
   "source": [
    "train['cap_loss_log'] = train['capital.loss'] + 1"
   ]
  },
  {
   "cell_type": "code",
   "execution_count": 435,
   "id": "22d92158-1d27-4918-a5b5-314a2149bcf9",
   "metadata": {},
   "outputs": [],
   "source": [
    "train['cap_loss_log'] = np.log(train.cap_loss_log)"
   ]
  },
  {
   "cell_type": "code",
   "execution_count": 436,
   "id": "a58de621-7965-4da9-9217-595be68d1b5f",
   "metadata": {},
   "outputs": [
    {
     "data": {
      "text/plain": [
       "<Axes: >"
      ]
     },
     "execution_count": 436,
     "metadata": {},
     "output_type": "execute_result"
    },
    {
     "data": {
      "image/png": "[encoded data removed]",
      "text/plain": [
       "<Figure size 640x480 with 1 Axes>"
      ]
     },
     "metadata": {},
     "output_type": "display_data"
    }
   ],
   "source": [
    "train.boxplot(column='cap_loss_log')"
   ]
  },
  {
   "cell_type": "code",
   "execution_count": 437,
   "id": "8655b409-0d5c-4376-805e-06ac6ccb5219",
   "metadata": {},
   "outputs": [],
   "source": [
    "from sklearn import preprocessing"
   ]
  },
  {
   "cell_type": "code",
   "execution_count": 438,
   "id": "a1f49c5f-3b14-4657-a571-b839c18d5a70",
   "metadata": {},
   "outputs": [],
   "source": [
    "for x in train.columns:\n",
    "    if train[x].dtype == 'object':\n",
    "        le = preprocessing.LabelEncoder()\n",
    "        le.fit(list(train[x].values))\n",
    "        train[x] = le.transform(list(train[x].values))"
   ]
  },
  {
   "cell_type": "code",
   "execution_count": 439,
   "id": "40b7f558-d172-407b-9071-be4e33dd37bc",
   "metadata": {},
   "outputs": [
    {
     "data": {
      "text/html": [
       "<div>\n",
       "<style scoped>\n",
       "    .dataframe tbody tr th:only-of-type {\n",
       "        vertical-align: middle;\n",
       "    }\n",
       "\n",
       "    .dataframe tbody tr th {\n",
       "        vertical-align: top;\n",
       "    }\n",
       "\n",
       "    .dataframe thead th {\n",
       "        text-align: right;\n",
       "    }\n",
       "</style>\n",
       "<table border=\"1\" class=\"dataframe\">\n",
       "  <thead>\n",
       "    <tr style=\"text-align: right;\">\n",
       "      <th></th>\n",
       "      <th>Unnamed: 0</th>\n",
       "      <th>age</th>\n",
       "      <th>workclass</th>\n",
       "      <th>fnlwgt</th>\n",
       "      <th>education</th>\n",
       "      <th>education.num</th>\n",
       "      <th>marital.status</th>\n",
       "      <th>occupation</th>\n",
       "      <th>relationship</th>\n",
       "      <th>race</th>\n",
       "      <th>...</th>\n",
       "      <th>hours.per.week</th>\n",
       "      <th>native.country</th>\n",
       "      <th>target</th>\n",
       "      <th>name_of_school</th>\n",
       "      <th>native_language</th>\n",
       "      <th>learned_foreign_language</th>\n",
       "      <th>level_of_skill</th>\n",
       "      <th>fnlwgt_log</th>\n",
       "      <th>cap_gain_log</th>\n",
       "      <th>cap_loss_log</th>\n",
       "    </tr>\n",
       "  </thead>\n",
       "  <tbody>\n",
       "    <tr>\n",
       "      <th>0</th>\n",
       "      <td>0</td>\n",
       "      <td>39</td>\n",
       "      <td>6</td>\n",
       "      <td>77516</td>\n",
       "      <td>0</td>\n",
       "      <td>13</td>\n",
       "      <td>4</td>\n",
       "      <td>0</td>\n",
       "      <td>1</td>\n",
       "      <td>4</td>\n",
       "      <td>...</td>\n",
       "      <td>40</td>\n",
       "      <td>38</td>\n",
       "      <td>0</td>\n",
       "      <td>2</td>\n",
       "      <td>3</td>\n",
       "      <td>3</td>\n",
       "      <td>4</td>\n",
       "      <td>11.258240</td>\n",
       "      <td>7.684784</td>\n",
       "      <td>0.0</td>\n",
       "    </tr>\n",
       "    <tr>\n",
       "      <th>1</th>\n",
       "      <td>1</td>\n",
       "      <td>50</td>\n",
       "      <td>5</td>\n",
       "      <td>83311</td>\n",
       "      <td>0</td>\n",
       "      <td>13</td>\n",
       "      <td>2</td>\n",
       "      <td>3</td>\n",
       "      <td>0</td>\n",
       "      <td>4</td>\n",
       "      <td>...</td>\n",
       "      <td>13</td>\n",
       "      <td>38</td>\n",
       "      <td>0</td>\n",
       "      <td>2</td>\n",
       "      <td>3</td>\n",
       "      <td>2</td>\n",
       "      <td>0</td>\n",
       "      <td>11.330336</td>\n",
       "      <td>0.000000</td>\n",
       "      <td>0.0</td>\n",
       "    </tr>\n",
       "    <tr>\n",
       "      <th>2</th>\n",
       "      <td>2</td>\n",
       "      <td>38</td>\n",
       "      <td>3</td>\n",
       "      <td>215646</td>\n",
       "      <td>4</td>\n",
       "      <td>9</td>\n",
       "      <td>0</td>\n",
       "      <td>5</td>\n",
       "      <td>1</td>\n",
       "      <td>4</td>\n",
       "      <td>...</td>\n",
       "      <td>40</td>\n",
       "      <td>38</td>\n",
       "      <td>0</td>\n",
       "      <td>0</td>\n",
       "      <td>3</td>\n",
       "      <td>3</td>\n",
       "      <td>2</td>\n",
       "      <td>12.281393</td>\n",
       "      <td>0.000000</td>\n",
       "      <td>0.0</td>\n",
       "    </tr>\n",
       "    <tr>\n",
       "      <th>3</th>\n",
       "      <td>3</td>\n",
       "      <td>53</td>\n",
       "      <td>3</td>\n",
       "      <td>234721</td>\n",
       "      <td>6</td>\n",
       "      <td>7</td>\n",
       "      <td>2</td>\n",
       "      <td>5</td>\n",
       "      <td>0</td>\n",
       "      <td>2</td>\n",
       "      <td>...</td>\n",
       "      <td>40</td>\n",
       "      <td>38</td>\n",
       "      <td>0</td>\n",
       "      <td>6</td>\n",
       "      <td>3</td>\n",
       "      <td>3</td>\n",
       "      <td>3</td>\n",
       "      <td>12.366153</td>\n",
       "      <td>0.000000</td>\n",
       "      <td>0.0</td>\n",
       "    </tr>\n",
       "    <tr>\n",
       "      <th>4</th>\n",
       "      <td>4</td>\n",
       "      <td>28</td>\n",
       "      <td>3</td>\n",
       "      <td>338409</td>\n",
       "      <td>0</td>\n",
       "      <td>13</td>\n",
       "      <td>2</td>\n",
       "      <td>9</td>\n",
       "      <td>5</td>\n",
       "      <td>2</td>\n",
       "      <td>...</td>\n",
       "      <td>40</td>\n",
       "      <td>4</td>\n",
       "      <td>0</td>\n",
       "      <td>2</td>\n",
       "      <td>27</td>\n",
       "      <td>4</td>\n",
       "      <td>4</td>\n",
       "      <td>12.732011</td>\n",
       "      <td>0.000000</td>\n",
       "      <td>0.0</td>\n",
       "    </tr>\n",
       "  </tbody>\n",
       "</table>\n",
       "<p>5 rows × 23 columns</p>\n",
       "</div>"
      ],
      "text/plain": [
       "   Unnamed: 0  age  workclass  fnlwgt  education  education.num  \\\n",
       "0           0   39          6   77516          0             13   \n",
       "1           1   50          5   83311          0             13   \n",
       "2           2   38          3  215646          4              9   \n",
       "3           3   53          3  234721          6              7   \n",
       "4           4   28          3  338409          0             13   \n",
       "\n",
       "   marital.status  occupation  relationship  race  ...  hours.per.week  \\\n",
       "0               4           0             1     4  ...              40   \n",
       "1               2           3             0     4  ...              13   \n",
       "2               0           5             1     4  ...              40   \n",
       "3               2           5             0     2  ...              40   \n",
       "4               2           9             5     2  ...              40   \n",
       "\n",
       "   native.country  target  name_of_school  native_language  \\\n",
       "0              38       0               2                3   \n",
       "1              38       0               2                3   \n",
       "2              38       0               0                3   \n",
       "3              38       0               6                3   \n",
       "4               4       0               2               27   \n",
       "\n",
       "   learned_foreign_language  level_of_skill  fnlwgt_log  cap_gain_log  \\\n",
       "0                         3               4   11.258240      7.684784   \n",
       "1                         2               0   11.330336      0.000000   \n",
       "2                         3               2   12.281393      0.000000   \n",
       "3                         3               3   12.366153      0.000000   \n",
       "4                         4               4   12.732011      0.000000   \n",
       "\n",
       "   cap_loss_log  \n",
       "0           0.0  \n",
       "1           0.0  \n",
       "2           0.0  \n",
       "3           0.0  \n",
       "4           0.0  \n",
       "\n",
       "[5 rows x 23 columns]"
      ]
     },
     "execution_count": 439,
     "metadata": {},
     "output_type": "execute_result"
    }
   ],
   "source": [
    "train.head()"
   ]
  },
  {
   "cell_type": "code",
   "execution_count": 440,
   "id": "2cdb91ff-b99e-4eea-addc-b3591b3846b0",
   "metadata": {},
   "outputs": [],
   "source": [
    "for x in test.columns:\n",
    "    if test[x].dtype == 'object' and x != 'target':\n",
    "        le = preprocessing.LabelEncoder()\n",
    "        le.fit(list(test[x].values))\n",
    "        test[x] = le.transform(list(test[x].values))"
   ]
  },
  {
   "cell_type": "code",
   "execution_count": 441,
   "id": "478448da-9aa5-47fc-8b0e-3e1498c1d09e",
   "metadata": {},
   "outputs": [
    {
     "data": {
      "text/html": [
       "<div>\n",
       "<style scoped>\n",
       "    .dataframe tbody tr th:only-of-type {\n",
       "        vertical-align: middle;\n",
       "    }\n",
       "\n",
       "    .dataframe tbody tr th {\n",
       "        vertical-align: top;\n",
       "    }\n",
       "\n",
       "    .dataframe thead th {\n",
       "        text-align: right;\n",
       "    }\n",
       "</style>\n",
       "<table border=\"1\" class=\"dataframe\">\n",
       "  <thead>\n",
       "    <tr style=\"text-align: right;\">\n",
       "      <th></th>\n",
       "      <th>Unnamed: 0</th>\n",
       "      <th>age</th>\n",
       "      <th>workclass</th>\n",
       "      <th>fnlwgt</th>\n",
       "      <th>education</th>\n",
       "      <th>education.num</th>\n",
       "      <th>marital.status</th>\n",
       "      <th>occupation</th>\n",
       "      <th>relationship</th>\n",
       "      <th>race</th>\n",
       "      <th>sex</th>\n",
       "      <th>capital.gain</th>\n",
       "      <th>capital.loss</th>\n",
       "      <th>hours.per.week</th>\n",
       "      <th>native.country</th>\n",
       "      <th>target</th>\n",
       "      <th>name_of_school</th>\n",
       "      <th>native_language</th>\n",
       "      <th>learned_foreign_language</th>\n",
       "      <th>level_of_skill</th>\n",
       "    </tr>\n",
       "  </thead>\n",
       "  <tbody>\n",
       "    <tr>\n",
       "      <th>0</th>\n",
       "      <td>0</td>\n",
       "      <td>25</td>\n",
       "      <td>3</td>\n",
       "      <td>226802</td>\n",
       "      <td>6</td>\n",
       "      <td>7</td>\n",
       "      <td>4</td>\n",
       "      <td>6</td>\n",
       "      <td>3</td>\n",
       "      <td>2</td>\n",
       "      <td>1</td>\n",
       "      <td>0</td>\n",
       "      <td>0</td>\n",
       "      <td>40</td>\n",
       "      <td>37</td>\n",
       "      <td>&lt;=50K.</td>\n",
       "      <td>6</td>\n",
       "      <td>2</td>\n",
       "      <td>6</td>\n",
       "      <td>0</td>\n",
       "    </tr>\n",
       "    <tr>\n",
       "      <th>1</th>\n",
       "      <td>1</td>\n",
       "      <td>38</td>\n",
       "      <td>3</td>\n",
       "      <td>89814</td>\n",
       "      <td>4</td>\n",
       "      <td>9</td>\n",
       "      <td>2</td>\n",
       "      <td>4</td>\n",
       "      <td>0</td>\n",
       "      <td>4</td>\n",
       "      <td>1</td>\n",
       "      <td>0</td>\n",
       "      <td>0</td>\n",
       "      <td>50</td>\n",
       "      <td>37</td>\n",
       "      <td>&lt;=50K.</td>\n",
       "      <td>0</td>\n",
       "      <td>2</td>\n",
       "      <td>3</td>\n",
       "      <td>3</td>\n",
       "    </tr>\n",
       "    <tr>\n",
       "      <th>2</th>\n",
       "      <td>2</td>\n",
       "      <td>28</td>\n",
       "      <td>1</td>\n",
       "      <td>336951</td>\n",
       "      <td>0</td>\n",
       "      <td>12</td>\n",
       "      <td>2</td>\n",
       "      <td>10</td>\n",
       "      <td>0</td>\n",
       "      <td>4</td>\n",
       "      <td>1</td>\n",
       "      <td>0</td>\n",
       "      <td>0</td>\n",
       "      <td>40</td>\n",
       "      <td>37</td>\n",
       "      <td>&gt;50K.</td>\n",
       "      <td>2</td>\n",
       "      <td>2</td>\n",
       "      <td>3</td>\n",
       "      <td>0</td>\n",
       "    </tr>\n",
       "    <tr>\n",
       "      <th>3</th>\n",
       "      <td>3</td>\n",
       "      <td>44</td>\n",
       "      <td>3</td>\n",
       "      <td>160323</td>\n",
       "      <td>0</td>\n",
       "      <td>10</td>\n",
       "      <td>2</td>\n",
       "      <td>6</td>\n",
       "      <td>0</td>\n",
       "      <td>2</td>\n",
       "      <td>1</td>\n",
       "      <td>7688</td>\n",
       "      <td>0</td>\n",
       "      <td>40</td>\n",
       "      <td>37</td>\n",
       "      <td>&gt;50K.</td>\n",
       "      <td>2</td>\n",
       "      <td>2</td>\n",
       "      <td>7</td>\n",
       "      <td>5</td>\n",
       "    </tr>\n",
       "    <tr>\n",
       "      <th>4</th>\n",
       "      <td>4</td>\n",
       "      <td>18</td>\n",
       "      <td>3</td>\n",
       "      <td>103497</td>\n",
       "      <td>0</td>\n",
       "      <td>10</td>\n",
       "      <td>4</td>\n",
       "      <td>9</td>\n",
       "      <td>3</td>\n",
       "      <td>4</td>\n",
       "      <td>0</td>\n",
       "      <td>0</td>\n",
       "      <td>0</td>\n",
       "      <td>30</td>\n",
       "      <td>37</td>\n",
       "      <td>&lt;=50K.</td>\n",
       "      <td>2</td>\n",
       "      <td>2</td>\n",
       "      <td>3</td>\n",
       "      <td>5</td>\n",
       "    </tr>\n",
       "  </tbody>\n",
       "</table>\n",
       "</div>"
      ],
      "text/plain": [
       "   Unnamed: 0  age  workclass  fnlwgt  education  education.num  \\\n",
       "0           0   25          3  226802          6              7   \n",
       "1           1   38          3   89814          4              9   \n",
       "2           2   28          1  336951          0             12   \n",
       "3           3   44          3  160323          0             10   \n",
       "4           4   18          3  103497          0             10   \n",
       "\n",
       "   marital.status  occupation  relationship  race  sex  capital.gain  \\\n",
       "0               4           6             3     2    1             0   \n",
       "1               2           4             0     4    1             0   \n",
       "2               2          10             0     4    1             0   \n",
       "3               2           6             0     2    1          7688   \n",
       "4               4           9             3     4    0             0   \n",
       "\n",
       "   capital.loss  hours.per.week  native.country  target  name_of_school  \\\n",
       "0             0              40              37  <=50K.               6   \n",
       "1             0              50              37  <=50K.               0   \n",
       "2             0              40              37   >50K.               2   \n",
       "3             0              40              37   >50K.               2   \n",
       "4             0              30              37  <=50K.               2   \n",
       "\n",
       "   native_language  learned_foreign_language  level_of_skill  \n",
       "0                2                         6               0  \n",
       "1                2                         3               3  \n",
       "2                2                         3               0  \n",
       "3                2                         7               5  \n",
       "4                2                         3               5  "
      ]
     },
     "execution_count": 441,
     "metadata": {},
     "output_type": "execute_result"
    }
   ],
   "source": [
    "test.head()"
   ]
  },
  {
   "cell_type": "code",
   "execution_count": 442,
   "id": "98c86ca9-1c72-4c32-a146-51aa3bbd3a8b",
   "metadata": {},
   "outputs": [],
   "source": [
    "from sklearn.linear_model import LogisticRegression\n",
    "from sklearn.model_selection import KFold\n",
    "from sklearn.ensemble import RandomForestClassifier\n",
    "from sklearn.tree import DecisionTreeClassifier\n",
    "from sklearn import metrics"
   ]
  },
  {
   "cell_type": "code",
   "execution_count": 443,
   "id": "cb4ee63d-2787-4dac-958c-e6bb70f66ba2",
   "metadata": {},
   "outputs": [],
   "source": [
    "def classification_model(model, data, predictors, outcome):\n",
    "    \n",
    "    model.fit(data[predictors], data[outcome])\n",
    "    predictions = model.predict(data[predictors])\n",
    "    \n",
    "    accuracy = metrics.accuracy_score(predictions, data[outcome])\n",
    "    print(\"Accuracy: %s\" % \"{0:.3%}\".format(accuracy))\n",
    "    \n",
    "    kf = KFold(n_splits = 5)\n",
    "    error = []\n",
    "    \n",
    "    for train, test in kf.split(data):\n",
    "        train_predictors = (data[predictors].iloc[train, :])\n",
    "        train_target = (data[outcome].iloc[train])\n",
    "        model.fit(train_predictors, train_target)\n",
    "        error.append(model.score(data[predictors].iloc[test, :], data[outcome].iloc[test]))\n",
    "        \n",
    "    print(\"Cross-Validation score: %s\" % \"{0:.3%}\".format(np.mean(error)))\n",
    "    \n",
    "    model.fit(data[predictors], data[outcome])"
   ]
  },
  {
   "cell_type": "code",
   "execution_count": 444,
   "id": "dd0eb6cc-3860-4647-8ab6-b3c71fd96714",
   "metadata": {},
   "outputs": [
    {
     "data": {
      "text/plain": [
       "Unnamed: 0                    int64\n",
       "age                           int64\n",
       "workclass                     int32\n",
       "fnlwgt                        int64\n",
       "education                     int32\n",
       "education.num                 int64\n",
       "marital.status                int32\n",
       "occupation                    int32\n",
       "relationship                  int32\n",
       "race                          int32\n",
       "sex                           int32\n",
       "capital.gain                  int64\n",
       "capital.loss                  int64\n",
       "hours.per.week                int64\n",
       "native.country                int32\n",
       "target                        int32\n",
       "name_of_school                int32\n",
       "native_language               int32\n",
       "learned_foreign_language      int32\n",
       "level_of_skill                int32\n",
       "fnlwgt_log                  float64\n",
       "cap_gain_log                float64\n",
       "cap_loss_log                float64\n",
       "dtype: object"
      ]
     },
     "execution_count": 444,
     "metadata": {},
     "output_type": "execute_result"
    }
   ],
   "source": [
    "train.dtypes"
   ]
  },
  {
   "cell_type": "code",
   "execution_count": 445,
   "id": "e5bd28af-ec40-42c3-b3dd-7d1f5e8600e1",
   "metadata": {},
   "outputs": [],
   "source": [
    "outcome_var = 'target'"
   ]
  },
  {
   "cell_type": "code",
   "execution_count": 446,
   "id": "f587b8a4-1397-4dc7-97e0-cfead22225f5",
   "metadata": {},
   "outputs": [
    {
     "name": "stdout",
     "output_type": "stream",
     "text": [
      "Accuracy: 99.856%\n",
      "Cross-Validation score: 85.403%\n"
     ]
    }
   ],
   "source": [
    "model = RandomForestClassifier(n_estimators = 25)\n",
    "predictor_var = ['age', 'workclass', 'fnlwgt_log', 'education', 'education.num', 'marital.status', 'occupation', 'relationship', 'race',\n",
    "                 'sex', 'cap_gain_log', 'cap_loss_log', 'hours.per.week', 'native.country']\n",
    "classification_model(model, train, predictor_var, outcome_var)"
   ]
  },
  {
   "cell_type": "code",
   "execution_count": 447,
   "id": "199106b7-3f7f-4c84-8b44-b99e9101c908",
   "metadata": {},
   "outputs": [],
   "source": [
    "# overfitting"
   ]
  },
  {
   "cell_type": "code",
   "execution_count": 448,
   "id": "712a051b-1423-4ff7-8269-605dbca45683",
   "metadata": {},
   "outputs": [
    {
     "data": {
      "text/plain": [
       "fnlwgt_log        0.175251\n",
       "age               0.151236\n",
       "cap_gain_log      0.123834\n",
       "relationship      0.099001\n",
       "education.num     0.087253\n",
       "hours.per.week    0.085415\n",
       "marital.status    0.068062\n",
       "occupation        0.066007\n",
       "workclass         0.039128\n",
       "cap_loss_log      0.035388\n",
       "education         0.029617\n",
       "native.country    0.014694\n",
       "race              0.014321\n",
       "sex               0.010793\n",
       "dtype: float64"
      ]
     },
     "execution_count": 448,
     "metadata": {},
     "output_type": "execute_result"
    }
   ],
   "source": [
    "featimp = pd.Series(model.feature_importances_, index = predictor_var).sort_values(ascending = False)\n",
    "featimp"
   ]
  },
  {
   "cell_type": "code",
   "execution_count": 449,
   "id": "6c96b44a-8549-49ed-90c8-705d948fda0b",
   "metadata": {},
   "outputs": [
    {
     "name": "stdout",
     "output_type": "stream",
     "text": [
      "Accuracy: 84.838%\n",
      "Cross-Validation score: 84.807%\n"
     ]
    }
   ],
   "source": [
    "model = RandomForestClassifier(n_estimators = 30, max_depth = 25, max_leaf_nodes = 25, min_samples_split = 25, max_features = 3)\n",
    "predictor_var = ['fnlwgt_log', 'age', 'cap_gain_log', 'relationship', 'education.num', 'hours.per.week']\n",
    "classification_model(model, train, predictor_var, outcome_var)"
   ]
  },
  {
   "cell_type": "code",
   "execution_count": 450,
   "id": "3ebad2bf-7816-492f-9831-1243a62cf5bc",
   "metadata": {},
   "outputs": [
    {
     "name": "stdout",
     "output_type": "stream",
     "text": [
      "Accuracy: 81.754%\n",
      "Cross-Validation score: 81.736%\n"
     ]
    }
   ],
   "source": [
    "model = LogisticRegression(C=100, penalty='l2', solver='liblinear')\n",
    "outcome_var = 'target'\n",
    "predictor_var = ['age', 'workclass', 'fnlwgt_log', 'education', 'education.num', 'marital.status', 'occupation', 'relationship', 'race',\n",
    "                 'sex', 'cap_gain_log', 'cap_loss_log', 'hours.per.week', 'native.country']\n",
    "classification_model(model, train, predictor_var, outcome_var)"
   ]
  },
  {
   "cell_type": "code",
   "execution_count": 451,
   "id": "655ab6e9-aec4-442e-b200-29d8df036ea3",
   "metadata": {},
   "outputs": [
    {
     "data": {
      "text/plain": [
       "sex               0.898451\n",
       "education.num     0.333311\n",
       "marital.status    0.227841\n",
       "cap_gain_log      0.206670\n",
       "cap_loss_log      0.160963\n",
       "relationship      0.114108\n",
       "race              0.112134\n",
       "fnlwgt_log        0.101900\n",
       "workclass         0.083069\n",
       "age               0.035241\n",
       "hours.per.week    0.031143\n",
       "education         0.016608\n",
       "occupation        0.005679\n",
       "native.country    0.001761\n",
       "dtype: float64"
      ]
     },
     "execution_count": 451,
     "metadata": {},
     "output_type": "execute_result"
    }
   ],
   "source": [
    "coefficients = model.coef_[0]\n",
    "featimp = pd.Series(abs(coefficients), index = predictor_var).sort_values(ascending = False)\n",
    "featimp"
   ]
  },
  {
   "cell_type": "code",
   "execution_count": 459,
   "id": "140eaea3-5dca-430c-8dca-b31b213e7835",
   "metadata": {},
   "outputs": [
    {
     "name": "stdout",
     "output_type": "stream",
     "text": [
      "Accuracy: 81.874%\n",
      "Cross-Validation score: 81.874%\n"
     ]
    }
   ],
   "source": [
    "model = LogisticRegression(C=1, penalty='l2', solver='liblinear')\n",
    "predictor_var = ['sex', 'education.num', 'marital.status', 'cap_gain_log', 'relationship', 'race']\n",
    "classification_model(model, train, predictor_var, outcome_var)"
   ]
  },
  {
   "cell_type": "code",
   "execution_count": 460,
   "id": "c66b99ec-265d-4f9e-9634-6b11cbb41630",
   "metadata": {},
   "outputs": [
    {
     "name": "stdout",
     "output_type": "stream",
     "text": [
      "Accuracy: 99.997%\n",
      "Cross-Validation score: 81.088%\n"
     ]
    }
   ],
   "source": [
    "model = DecisionTreeClassifier()\n",
    "predictor_var = ['age', 'workclass', 'fnlwgt_log', 'education', 'education.num', 'marital.status', 'occupation', 'relationship', 'race',\n",
    "                 'sex', 'cap_gain_log', 'cap_loss_log', 'hours.per.week', 'native.country']\n",
    "classification_model(model, train, predictor_var, outcome_var)"
   ]
  },
  {
   "cell_type": "code",
   "execution_count": 461,
   "id": "aba0920b-7dd0-4207-9492-86d062d676b3",
   "metadata": {},
   "outputs": [
    {
     "data": {
      "text/plain": [
       "fnlwgt_log        0.214345\n",
       "relationship      0.199642\n",
       "education.num     0.117053\n",
       "cap_gain_log      0.115557\n",
       "age               0.110225\n",
       "hours.per.week    0.071379\n",
       "occupation        0.059810\n",
       "cap_loss_log      0.037978\n",
       "workclass         0.031135\n",
       "native.country    0.015249\n",
       "race              0.011504\n",
       "education         0.007031\n",
       "marital.status    0.006304\n",
       "sex               0.002788\n",
       "dtype: float64"
      ]
     },
     "execution_count": 461,
     "metadata": {},
     "output_type": "execute_result"
    }
   ],
   "source": [
    "featimp = pd.Series(model.feature_importances_, index = predictor_var).sort_values(ascending = False)\n",
    "featimp"
   ]
  },
  {
   "cell_type": "code",
   "execution_count": 462,
   "id": "7a7a175c-b9aa-4c39-9fa7-eb1330d0e0e4",
   "metadata": {},
   "outputs": [
    {
     "name": "stdout",
     "output_type": "stream",
     "text": [
      "Accuracy: 84.862%\n",
      "Cross-Validation score: 84.862%\n"
     ]
    }
   ],
   "source": [
    "model = DecisionTreeClassifier(max_depth = 25, max_leaf_nodes = 25, min_samples_split = 25, max_features = 3, random_state = 10)\n",
    "predictor_var = ['fnlwgt_log', 'relationship', 'education.num', 'cap_gain_log']\n",
    "classification_model(model, train, predictor_var, outcome_var)"
   ]
  },
  {
   "cell_type": "code",
   "execution_count": null,
   "id": "fe8c8fbc-2729-45e1-973c-8371f48ea2b7",
   "metadata": {},
   "outputs": [],
   "source": []
  }
 ],
 "metadata": {
  "kernelspec": {
   "display_name": "Python 3 (ipykernel)",
   "language": "python",
   "name": "python3"
  },
  "language_info": {
   "codemirror_mode": {
    "name": "ipython",
    "version": 3
   },
   "file_extension": ".py",
   "mimetype": "text/x-python",
   "name": "python",
   "nbconvert_exporter": "python",
   "pygments_lexer": "ipython3",
   "version": "3.11.5"
  }
 },
 "nbformat": 4,
 "nbformat_minor": 5
}
